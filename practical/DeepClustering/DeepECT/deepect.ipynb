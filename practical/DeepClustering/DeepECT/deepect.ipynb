{
 "cells": [
  {
   "cell_type": "markdown",
   "metadata": {},
   "source": [
    "# Evaluation"
   ]
  },
  {
   "cell_type": "code",
   "execution_count": 1,
   "metadata": {},
   "outputs": [
    {
     "name": "stdout",
     "output_type": "stream",
     "text": [
      "/home/loebbert/projects/deepclustering/LMU_Master_Practical_SoSe24\n",
      "/home/loebbert/projects/deepclustering/LMU_Master_Practical_SoSe24\n"
     ]
    }
   ],
   "source": [
    "import sys\n",
    "import os\n",
    "\n",
    "repo_path = os.path.sep.join(os.getcwd().split(os.path.sep)[:-3])\n",
    "print(repo_path)\n",
    "sys.path.append(repo_path)\n",
    "%cd ../../.."
   ]
  },
  {
   "cell_type": "code",
   "execution_count": 2,
   "metadata": {},
   "outputs": [
    {
     "name": "stdout",
     "output_type": "stream",
     "text": [
      "[WARNING] Could not import cv2 in clustpy.data.real_video_data. Please install cv2 by 'pip install opencv-python' if necessary\n"
     ]
    }
   ],
   "source": [
    "import pandas as pd\n",
    "from clustpy.deep.autoencoders import FeedforwardAutoencoder\n",
    "from practical.DeepClustering.DeepECT.evaluation_pipeline import DatasetType, evaluate"
   ]
  },
  {
   "cell_type": "code",
   "execution_count": 3,
   "metadata": {},
   "outputs": [
    {
     "name": "stdout",
     "output_type": "stream",
     "text": [
      "Autoencoder pretraining complete and saved.\n",
      "fitting DeepECT...\n",
      "cuda\n"
     ]
    },
    {
     "name": "stderr",
     "output_type": "stream",
     "text": [
      "Fit:   1%|          | 543/50000 [00:03<09:54, 83.22it/s] "
     ]
    },
    {
     "name": "stdout",
     "output_type": "stream",
     "text": [
      "Leaf assignments: 48730\n",
      "Tree size after growing: 5, leaf nodes: 3\n"
     ]
    },
    {
     "name": "stderr",
     "output_type": "stream",
     "text": [
      "Fit:   2%|▏         | 1023/50000 [00:05<11:53, 68.61it/s]"
     ]
    },
    {
     "name": "stdout",
     "output_type": "stream",
     "text": [
      "Leaf assignments: 30872\n",
      "Tree size after growing: 7, leaf nodes: 4\n"
     ]
    },
    {
     "name": "stderr",
     "output_type": "stream",
     "text": [
      "Fit:   3%|▎         | 1536/50000 [00:09<11:34, 69.81it/s] "
     ]
    },
    {
     "name": "stdout",
     "output_type": "stream",
     "text": [
      "Leaf assignments: 20638\n",
      "Tree size after growing: 9, leaf nodes: 5\n"
     ]
    },
    {
     "name": "stderr",
     "output_type": "stream",
     "text": [
      "Fit:   4%|▍         | 2027/50000 [00:12<12:24, 64.42it/s] "
     ]
    },
    {
     "name": "stdout",
     "output_type": "stream",
     "text": [
      "Leaf assignments: 15769\n",
      "Tree size after growing: 11, leaf nodes: 6\n"
     ]
    },
    {
     "name": "stderr",
     "output_type": "stream",
     "text": [
      "Fit:   5%|▌         | 2520/50000 [00:16<13:22, 59.14it/s] "
     ]
    },
    {
     "name": "stdout",
     "output_type": "stream",
     "text": [
      "Leaf assignments: 18288\n",
      "Tree size after growing: 13, leaf nodes: 7\n"
     ]
    },
    {
     "name": "stderr",
     "output_type": "stream",
     "text": [
      "Fit:   6%|▌         | 3022/50000 [00:20<15:47, 49.58it/s] "
     ]
    },
    {
     "name": "stdout",
     "output_type": "stream",
     "text": [
      "Leaf assignments: 12914\n",
      "Tree size after growing: 15, leaf nodes: 8\n"
     ]
    },
    {
     "name": "stderr",
     "output_type": "stream",
     "text": [
      "Fit:   7%|▋         | 3523/50000 [00:25<15:29, 49.99it/s] "
     ]
    },
    {
     "name": "stdout",
     "output_type": "stream",
     "text": [
      "Leaf assignments: 9832\n",
      "Tree size after growing: 17, leaf nodes: 9\n"
     ]
    },
    {
     "name": "stderr",
     "output_type": "stream",
     "text": [
      "Fit:   8%|▊         | 4014/50000 [00:30<20:32, 37.32it/s] "
     ]
    },
    {
     "name": "stdout",
     "output_type": "stream",
     "text": [
      "Leaf assignments: 12944\n",
      "Tree size after growing: 19, leaf nodes: 10\n"
     ]
    },
    {
     "name": "stderr",
     "output_type": "stream",
     "text": [
      "Fit:   9%|▉         | 4514/50000 [00:35<20:52, 36.30it/s] "
     ]
    },
    {
     "name": "stdout",
     "output_type": "stream",
     "text": [
      "Leaf assignments: 5850\n",
      "Tree size after growing: 21, leaf nodes: 11\n"
     ]
    },
    {
     "name": "stderr",
     "output_type": "stream",
     "text": [
      "Fit:  10%|█         | 5012/50000 [00:41<23:51, 31.44it/s] "
     ]
    },
    {
     "name": "stdout",
     "output_type": "stream",
     "text": [
      "Leaf assignments: 6454\n",
      "Tree size after growing: 23, leaf nodes: 12\n"
     ]
    },
    {
     "name": "stderr",
     "output_type": "stream",
     "text": [
      "Fit:  11%|█         | 5517/50000 [00:48<26:23, 28.10it/s] "
     ]
    },
    {
     "name": "stdout",
     "output_type": "stream",
     "text": [
      "Leaf assignments: 7401\n",
      "Tree size after growing: 25, leaf nodes: 13\n"
     ]
    },
    {
     "name": "stderr",
     "output_type": "stream",
     "text": [
      "Fit:  12%|█▏        | 6018/50000 [00:54<23:48, 30.78it/s] "
     ]
    },
    {
     "name": "stdout",
     "output_type": "stream",
     "text": [
      "Leaf assignments: 7022\n",
      "Tree size after growing: 27, leaf nodes: 14\n"
     ]
    },
    {
     "name": "stderr",
     "output_type": "stream",
     "text": [
      "Fit:  13%|█▎        | 6517/50000 [01:00<24:09, 30.01it/s] "
     ]
    },
    {
     "name": "stdout",
     "output_type": "stream",
     "text": [
      "Leaf assignments: 6471\n",
      "Tree size after growing: 29, leaf nodes: 15\n"
     ]
    },
    {
     "name": "stderr",
     "output_type": "stream",
     "text": [
      "Fit:  14%|█▍        | 7016/50000 [01:07<28:17, 25.32it/s]"
     ]
    },
    {
     "name": "stdout",
     "output_type": "stream",
     "text": [
      "Leaf assignments: 6620\n",
      "Tree size after growing: 31, leaf nodes: 16\n"
     ]
    },
    {
     "name": "stderr",
     "output_type": "stream",
     "text": [
      "Fit:  15%|█▌        | 7513/50000 [01:14<35:13, 20.10it/s]"
     ]
    },
    {
     "name": "stdout",
     "output_type": "stream",
     "text": [
      "Leaf assignments: 5641\n",
      "Tree size after growing: 33, leaf nodes: 17\n"
     ]
    },
    {
     "name": "stderr",
     "output_type": "stream",
     "text": [
      "Fit:  16%|█▌        | 8013/50000 [01:22<32:51, 21.29it/s]"
     ]
    },
    {
     "name": "stdout",
     "output_type": "stream",
     "text": [
      "Leaf assignments: 5089\n",
      "Tree size after growing: 35, leaf nodes: 18\n"
     ]
    },
    {
     "name": "stderr",
     "output_type": "stream",
     "text": [
      "Fit:  17%|█▋        | 8514/50000 [01:30<32:33, 21.24it/s]"
     ]
    },
    {
     "name": "stdout",
     "output_type": "stream",
     "text": [
      "Leaf assignments: 6674\n",
      "Tree size after growing: 37, leaf nodes: 19\n"
     ]
    },
    {
     "name": "stderr",
     "output_type": "stream",
     "text": [
      "Fit:  18%|█▊        | 9011/50000 [01:38<40:22, 16.92it/s]"
     ]
    },
    {
     "name": "stdout",
     "output_type": "stream",
     "text": [
      "Leaf assignments: 9076\n",
      "Tree size after growing: 39, leaf nodes: 20\n"
     ]
    },
    {
     "name": "stderr",
     "output_type": "stream",
     "text": [
      "Fit:  19%|█▉        | 9500/50000 [01:45<07:31, 89.72it/s]\n",
      "Predict: 100%|██████████| 274/274 [00:00<00:00, 358.03it/s]\n"
     ]
    },
    {
     "name": "stdout",
     "output_type": "stream",
     "text": [
      "finished DeepECT...\n",
      "fitting DeepECT+AUG...\n",
      "cuda\n"
     ]
    },
    {
     "name": "stderr",
     "output_type": "stream",
     "text": [
      "Fit:   1%|          | 504/50000 [00:37<19:34:22,  1.42s/it]"
     ]
    },
    {
     "name": "stdout",
     "output_type": "stream",
     "text": [
      "Leaf assignments: 48913\n",
      "Tree size after growing: 5, leaf nodes: 3\n"
     ]
    },
    {
     "name": "stderr",
     "output_type": "stream",
     "text": [
      "Fit:   2%|▏         | 1004/50000 [01:14<18:13:06,  1.34s/it]"
     ]
    },
    {
     "name": "stdout",
     "output_type": "stream",
     "text": [
      "Leaf assignments: 30984\n",
      "Tree size after growing: 7, leaf nodes: 4\n"
     ]
    },
    {
     "name": "stderr",
     "output_type": "stream",
     "text": [
      "Fit:   3%|▎         | 1504/50000 [01:53<21:08:34,  1.57s/it]"
     ]
    },
    {
     "name": "stdout",
     "output_type": "stream",
     "text": [
      "Leaf assignments: 21100\n",
      "Tree size after growing: 9, leaf nodes: 5\n"
     ]
    },
    {
     "name": "stderr",
     "output_type": "stream",
     "text": [
      "Fit:   4%|▍         | 1924/50000 [02:09<54:04, 14.82it/s]   \n"
     ]
    },
    {
     "ename": "KeyboardInterrupt",
     "evalue": "",
     "output_type": "error",
     "traceback": [
      "\u001b[0;31m---------------------------------------------------------------------------\u001b[0m",
      "\u001b[0;31mKeyboardInterrupt\u001b[0m                         Traceback (most recent call last)",
      "Cell \u001b[0;32mIn[3], line 1\u001b[0m\n\u001b[0;32m----> 1\u001b[0m flat_mnist, hierarchical_mnist \u001b[38;5;241m=\u001b[39m \u001b[43mevaluate\u001b[49m\u001b[43m(\u001b[49m\n\u001b[1;32m      2\u001b[0m \u001b[43m    \u001b[49m\u001b[43minit_autoencoder\u001b[49m\u001b[38;5;241;43m=\u001b[39;49m\u001b[43mFeedforwardAutoencoder\u001b[49m\u001b[43m,\u001b[49m\u001b[43m \u001b[49m\u001b[43mdataset_type\u001b[49m\u001b[38;5;241;43m=\u001b[39;49m\u001b[43mDatasetType\u001b[49m\u001b[38;5;241;43m.\u001b[39;49m\u001b[43mMNIST\u001b[49m\u001b[43m,\u001b[49m\u001b[43m \u001b[49m\u001b[43mseed\u001b[49m\u001b[38;5;241;43m=\u001b[39;49m\u001b[38;5;241;43m42\u001b[39;49m\n\u001b[1;32m      3\u001b[0m \u001b[43m)\u001b[49m\n",
      "File \u001b[0;32m~/projects/deepclustering/LMU_Master_Practical_SoSe24/practical/DeepClustering/DeepECT/evaluation_pipeline.py:469\u001b[0m, in \u001b[0;36mevaluate\u001b[0;34m(init_autoencoder, dataset_type, seed, autoencoder_params_path)\u001b[0m\n\u001b[1;32m    460\u001b[0m     autoencoder_params_path \u001b[38;5;241m=\u001b[39m \u001b[38;5;124mf\u001b[39m\u001b[38;5;124m\"\u001b[39m\u001b[38;5;124mpractical/DeepClustering/DeepECT/pretrained_autoencoders/\u001b[39m\u001b[38;5;132;01m{\u001b[39;00mdataset[\u001b[38;5;124m'\u001b[39m\u001b[38;5;124mdataset_name\u001b[39m\u001b[38;5;124m'\u001b[39m]\u001b[38;5;132;01m}\u001b[39;00m\u001b[38;5;124m_autoencoder_pretrained.pth\u001b[39m\u001b[38;5;124m\"\u001b[39m\n\u001b[1;32m    462\u001b[0m autoencoder \u001b[38;5;241m=\u001b[39m pretraining(\n\u001b[1;32m    463\u001b[0m     init_autoencoder\u001b[38;5;241m=\u001b[39minit_autoencoder,\n\u001b[1;32m    464\u001b[0m     autoencoder_params_path\u001b[38;5;241m=\u001b[39mautoencoder_params_path,\n\u001b[1;32m    465\u001b[0m     dataset\u001b[38;5;241m=\u001b[39mdataset,\n\u001b[1;32m    466\u001b[0m     seed\u001b[38;5;241m=\u001b[39mseed,\n\u001b[1;32m    467\u001b[0m )\n\u001b[0;32m--> 469\u001b[0m flat_results \u001b[38;5;241m=\u001b[39m \u001b[43mflat\u001b[49m\u001b[43m(\u001b[49m\n\u001b[1;32m    470\u001b[0m \u001b[43m    \u001b[49m\u001b[43mautoencoder\u001b[49m\u001b[38;5;241;43m=\u001b[39;49m\u001b[43mautoencoder\u001b[49m\u001b[43m,\u001b[49m\n\u001b[1;32m    471\u001b[0m \u001b[43m    \u001b[49m\u001b[43mautoencoder_params_path\u001b[49m\u001b[38;5;241;43m=\u001b[39;49m\u001b[43mautoencoder_params_path\u001b[49m\u001b[43m,\u001b[49m\n\u001b[1;32m    472\u001b[0m \u001b[43m    \u001b[49m\u001b[43mdataset_type\u001b[49m\u001b[38;5;241;43m=\u001b[39;49m\u001b[43mdataset_type\u001b[49m\u001b[43m,\u001b[49m\n\u001b[1;32m    473\u001b[0m \u001b[43m    \u001b[49m\u001b[43mdataset\u001b[49m\u001b[38;5;241;43m=\u001b[39;49m\u001b[43mdataset\u001b[49m\u001b[43m,\u001b[49m\n\u001b[1;32m    474\u001b[0m \u001b[43m    \u001b[49m\u001b[43mseed\u001b[49m\u001b[38;5;241;43m=\u001b[39;49m\u001b[43mseed\u001b[49m\u001b[43m,\u001b[49m\n\u001b[1;32m    475\u001b[0m \u001b[43m\u001b[49m\u001b[43m)\u001b[49m\n\u001b[1;32m    476\u001b[0m hierarchical_results \u001b[38;5;241m=\u001b[39m hierarchical(\n\u001b[1;32m    477\u001b[0m     autoencoder\u001b[38;5;241m=\u001b[39mautoencoder,\n\u001b[1;32m    478\u001b[0m     autoencoder_params_path\u001b[38;5;241m=\u001b[39mautoencoder_params_path,\n\u001b[0;32m   (...)\u001b[0m\n\u001b[1;32m    481\u001b[0m     seed\u001b[38;5;241m=\u001b[39mseed,\n\u001b[1;32m    482\u001b[0m )\n\u001b[1;32m    484\u001b[0m \u001b[38;5;28;01mreturn\u001b[39;00m flat_results, hierarchical_results\n",
      "File \u001b[0;32m~/projects/deepclustering/LMU_Master_Practical_SoSe24/practical/DeepClustering/DeepECT/evaluation_pipeline.py:248\u001b[0m, in \u001b[0;36mflat\u001b[0;34m(autoencoder, autoencoder_params_path, dataset_type, dataset, seed)\u001b[0m\n\u001b[1;32m    239\u001b[0m deepect \u001b[38;5;241m=\u001b[39m DeepECT(\n\u001b[1;32m    240\u001b[0m     autoencoder\u001b[38;5;241m=\u001b[39mautoencoder,\n\u001b[1;32m    241\u001b[0m     clustering_optimizer_params\u001b[38;5;241m=\u001b[39m{\u001b[38;5;124m\"\u001b[39m\u001b[38;5;124mlr\u001b[39m\u001b[38;5;124m\"\u001b[39m: \u001b[38;5;241m1e-4\u001b[39m, \u001b[38;5;124m\"\u001b[39m\u001b[38;5;124mbetas\u001b[39m\u001b[38;5;124m\"\u001b[39m: (\u001b[38;5;241m0.9\u001b[39m, \u001b[38;5;241m0.999\u001b[39m)},\n\u001b[0;32m   (...)\u001b[0m\n\u001b[1;32m    245\u001b[0m     random_state\u001b[38;5;241m=\u001b[39mnp\u001b[38;5;241m.\u001b[39mrandom\u001b[38;5;241m.\u001b[39mRandomState(seed),\n\u001b[1;32m    246\u001b[0m )\n\u001b[1;32m    247\u001b[0m \u001b[38;5;28mprint\u001b[39m(\u001b[38;5;124m\"\u001b[39m\u001b[38;5;124mfitting DeepECT+AUG...\u001b[39m\u001b[38;5;124m\"\u001b[39m)\n\u001b[0;32m--> 248\u001b[0m \u001b[43mdeepect\u001b[49m\u001b[38;5;241;43m.\u001b[39;49m\u001b[43mfit\u001b[49m\u001b[43m(\u001b[49m\u001b[43mdata\u001b[49m\u001b[43m)\u001b[49m\n\u001b[1;32m    249\u001b[0m \u001b[38;5;28mprint\u001b[39m(\u001b[38;5;124m\"\u001b[39m\u001b[38;5;124mfinished DeepECT+AUG...\u001b[39m\u001b[38;5;124m\"\u001b[39m)\n\u001b[1;32m    250\u001b[0m \u001b[38;5;66;03m# Calculate evaluation metrics\u001b[39;00m\n",
      "File \u001b[0;32m~/projects/deepclustering/LMU_Master_Practical_SoSe24/practical/DeepClustering/DeepECT/deepect.py:1250\u001b[0m, in \u001b[0;36mDeepECT.fit\u001b[0;34m(self, X)\u001b[0m\n\u001b[1;32m   1233\u001b[0m \u001b[38;5;250m\u001b[39m\u001b[38;5;124;03m\"\"\"\u001b[39;00m\n\u001b[1;32m   1234\u001b[0m \u001b[38;5;124;03mInitiate the actual clustering process on the input data set.\u001b[39;00m\n\u001b[1;32m   1235\u001b[0m \u001b[38;5;124;03mThe resulting cluster labels will be stored in the labels_ attribute.\u001b[39;00m\n\u001b[0;32m   (...)\u001b[0m\n\u001b[1;32m   1245\u001b[0m \u001b[38;5;124;03m    this instance of the DeepECT algorithm\u001b[39;00m\n\u001b[1;32m   1246\u001b[0m \u001b[38;5;124;03m\"\"\"\u001b[39;00m\n\u001b[1;32m   1247\u001b[0m augmentation_invariance_check(\n\u001b[1;32m   1248\u001b[0m     \u001b[38;5;28mself\u001b[39m\u001b[38;5;241m.\u001b[39maugmentation_invariance, \u001b[38;5;28mself\u001b[39m\u001b[38;5;241m.\u001b[39mcustom_dataloaders\n\u001b[1;32m   1249\u001b[0m )\n\u001b[0;32m-> 1250\u001b[0m tree, autoencoder \u001b[38;5;241m=\u001b[39m \u001b[43m_deep_ect\u001b[49m\u001b[43m(\u001b[49m\n\u001b[1;32m   1251\u001b[0m \u001b[43m    \u001b[49m\u001b[43mX\u001b[49m\u001b[43m,\u001b[49m\n\u001b[1;32m   1252\u001b[0m \u001b[43m    \u001b[49m\u001b[38;5;28;43mself\u001b[39;49m\u001b[38;5;241;43m.\u001b[39;49m\u001b[43mbatch_size\u001b[49m\u001b[43m,\u001b[49m\n\u001b[1;32m   1253\u001b[0m \u001b[43m    \u001b[49m\u001b[38;5;28;43mself\u001b[39;49m\u001b[38;5;241;43m.\u001b[39;49m\u001b[43mpretrain_optimizer_params\u001b[49m\u001b[43m,\u001b[49m\n\u001b[1;32m   1254\u001b[0m \u001b[43m    \u001b[49m\u001b[38;5;28;43mself\u001b[39;49m\u001b[38;5;241;43m.\u001b[39;49m\u001b[43mclustering_optimizer_params\u001b[49m\u001b[43m,\u001b[49m\n\u001b[1;32m   1255\u001b[0m \u001b[43m    \u001b[49m\u001b[38;5;28;43mself\u001b[39;49m\u001b[38;5;241;43m.\u001b[39;49m\u001b[43mpretrain_epochs\u001b[49m\u001b[43m,\u001b[49m\n\u001b[1;32m   1256\u001b[0m \u001b[43m    \u001b[49m\u001b[38;5;28;43mself\u001b[39;49m\u001b[38;5;241;43m.\u001b[39;49m\u001b[43mmax_iterations\u001b[49m\u001b[43m,\u001b[49m\n\u001b[1;32m   1257\u001b[0m \u001b[43m    \u001b[49m\u001b[38;5;28;43mself\u001b[39;49m\u001b[38;5;241;43m.\u001b[39;49m\u001b[43mpruning_threshold\u001b[49m\u001b[43m,\u001b[49m\n\u001b[1;32m   1258\u001b[0m \u001b[43m    \u001b[49m\u001b[38;5;28;43mself\u001b[39;49m\u001b[38;5;241;43m.\u001b[39;49m\u001b[43mgrow_interval\u001b[49m\u001b[43m,\u001b[49m\n\u001b[1;32m   1259\u001b[0m \u001b[43m    \u001b[49m\u001b[38;5;28;43mself\u001b[39;49m\u001b[38;5;241;43m.\u001b[39;49m\u001b[43moptimizer_class\u001b[49m\u001b[43m,\u001b[49m\n\u001b[1;32m   1260\u001b[0m \u001b[43m    \u001b[49m\u001b[38;5;28;43mself\u001b[39;49m\u001b[38;5;241;43m.\u001b[39;49m\u001b[43mrec_loss_fn\u001b[49m\u001b[43m,\u001b[49m\n\u001b[1;32m   1261\u001b[0m \u001b[43m    \u001b[49m\u001b[38;5;28;43mself\u001b[39;49m\u001b[38;5;241;43m.\u001b[39;49m\u001b[43mautoencoder\u001b[49m\u001b[43m,\u001b[49m\n\u001b[1;32m   1262\u001b[0m \u001b[43m    \u001b[49m\u001b[38;5;28;43mself\u001b[39;49m\u001b[38;5;241;43m.\u001b[39;49m\u001b[43membedding_size\u001b[49m\u001b[43m,\u001b[49m\n\u001b[1;32m   1263\u001b[0m \u001b[43m    \u001b[49m\u001b[38;5;28;43mself\u001b[39;49m\u001b[38;5;241;43m.\u001b[39;49m\u001b[43mmax_leaf_nodes\u001b[49m\u001b[43m,\u001b[49m\n\u001b[1;32m   1264\u001b[0m \u001b[43m    \u001b[49m\u001b[38;5;28;43mself\u001b[39;49m\u001b[38;5;241;43m.\u001b[39;49m\u001b[43mcustom_dataloaders\u001b[49m\u001b[43m,\u001b[49m\n\u001b[1;32m   1265\u001b[0m \u001b[43m    \u001b[49m\u001b[38;5;28;43mself\u001b[39;49m\u001b[38;5;241;43m.\u001b[39;49m\u001b[43maugmentation_invariance\u001b[49m\u001b[43m,\u001b[49m\n\u001b[1;32m   1266\u001b[0m \u001b[43m    \u001b[49m\u001b[38;5;28;43mself\u001b[39;49m\u001b[38;5;241;43m.\u001b[39;49m\u001b[43mrandom_state\u001b[49m\u001b[43m,\u001b[49m\n\u001b[1;32m   1267\u001b[0m \u001b[43m    \u001b[49m\u001b[38;5;28;43mself\u001b[39;49m\u001b[38;5;241;43m.\u001b[39;49m\u001b[43mautoencoder_param_path\u001b[49m\u001b[43m,\u001b[49m\n\u001b[1;32m   1268\u001b[0m \u001b[43m\u001b[49m\u001b[43m)\u001b[49m\n\u001b[1;32m   1269\u001b[0m \u001b[38;5;28mself\u001b[39m\u001b[38;5;241m.\u001b[39mtree_ \u001b[38;5;241m=\u001b[39m tree\n\u001b[1;32m   1270\u001b[0m \u001b[38;5;28mself\u001b[39m\u001b[38;5;241m.\u001b[39mautoencoder \u001b[38;5;241m=\u001b[39m autoencoder\n",
      "File \u001b[0;32m~/projects/deepclustering/LMU_Master_Practical_SoSe24/practical/DeepClustering/DeepECT/deepect.py:1114\u001b[0m, in \u001b[0;36m_deep_ect\u001b[0;34m(X, batch_size, pretrain_optimizer_params, clustering_optimizer_params, pretrain_epochs, max_iterations, pruning_threshold, grow_interval, optimizer_class, rec_loss_fn, autoencoder, embedding_size, max_leaf_nodes, custom_dataloaders, augmentation_invariance, random_state, autoencoder_save_param_path)\u001b[0m\n\u001b[1;32m   1110\u001b[0m optimizer \u001b[38;5;241m=\u001b[39m optimizer_class(\n\u001b[1;32m   1111\u001b[0m     \u001b[38;5;28mlist\u001b[39m(autoencoder\u001b[38;5;241m.\u001b[39mparameters()), \u001b[38;5;241m*\u001b[39m\u001b[38;5;241m*\u001b[39mclustering_optimizer_params\n\u001b[1;32m   1112\u001b[0m )\n\u001b[1;32m   1113\u001b[0m \u001b[38;5;66;03m# DeepECT Training loop\u001b[39;00m\n\u001b[0;32m-> 1114\u001b[0m \u001b[43mdeepect_module\u001b[49m\u001b[38;5;241;43m.\u001b[39;49m\u001b[43mfit\u001b[49m\u001b[43m(\u001b[49m\n\u001b[1;32m   1115\u001b[0m \u001b[43m    \u001b[49m\u001b[43mautoencoder\u001b[49m\u001b[43m,\u001b[49m\n\u001b[1;32m   1116\u001b[0m \u001b[43m    \u001b[49m\u001b[43mtrainloader\u001b[49m\u001b[43m,\u001b[49m\n\u001b[1;32m   1117\u001b[0m \u001b[43m    \u001b[49m\u001b[43mmax_iterations\u001b[49m\u001b[43m,\u001b[49m\n\u001b[1;32m   1118\u001b[0m \u001b[43m    \u001b[49m\u001b[43mpruning_threshold\u001b[49m\u001b[43m,\u001b[49m\n\u001b[1;32m   1119\u001b[0m \u001b[43m    \u001b[49m\u001b[43mgrow_interval\u001b[49m\u001b[43m,\u001b[49m\n\u001b[1;32m   1120\u001b[0m \u001b[43m    \u001b[49m\u001b[43mmax_leaf_nodes\u001b[49m\u001b[43m,\u001b[49m\n\u001b[1;32m   1121\u001b[0m \u001b[43m    \u001b[49m\u001b[43moptimizer\u001b[49m\u001b[43m,\u001b[49m\n\u001b[1;32m   1122\u001b[0m \u001b[43m    \u001b[49m\u001b[43mrec_loss_fn\u001b[49m\u001b[43m,\u001b[49m\n\u001b[1;32m   1123\u001b[0m \u001b[43m    \u001b[49m\u001b[43mdevice\u001b[49m\u001b[43m,\u001b[49m\n\u001b[1;32m   1124\u001b[0m \u001b[43m\u001b[49m\u001b[43m)\u001b[49m\n\u001b[1;32m   1125\u001b[0m \u001b[38;5;66;03m# Get labels\u001b[39;00m\n\u001b[1;32m   1126\u001b[0m deepect_tree: PredictionClusterTree \u001b[38;5;241m=\u001b[39m deepect_module\u001b[38;5;241m.\u001b[39mpredict(\n\u001b[1;32m   1127\u001b[0m     testloader, autoencoder\n\u001b[1;32m   1128\u001b[0m )\n",
      "File \u001b[0;32m~/projects/deepclustering/LMU_Master_Practical_SoSe24/practical/DeepClustering/DeepECT/deepect.py:892\u001b[0m, in \u001b[0;36m_DeepECT_Module.fit\u001b[0;34m(self, autoencoder, trainloader, max_iterations, pruning_threshold, grow_interval, max_leaf_nodes, optimizer, rec_loss_fn, device)\u001b[0m\n\u001b[1;32m    889\u001b[0m train_iterator \u001b[38;5;241m=\u001b[39m \u001b[38;5;28miter\u001b[39m(trainloader)\n\u001b[1;32m    891\u001b[0m \u001b[38;5;28;01mfor\u001b[39;00m e \u001b[38;5;129;01min\u001b[39;00m tqdm(\u001b[38;5;28mrange\u001b[39m(max_iterations), desc\u001b[38;5;241m=\u001b[39m\u001b[38;5;124m\"\u001b[39m\u001b[38;5;124mFit\u001b[39m\u001b[38;5;124m\"\u001b[39m, total\u001b[38;5;241m=\u001b[39mmax_iterations):\n\u001b[0;32m--> 892\u001b[0m     \u001b[38;5;28;43mself\u001b[39;49m\u001b[38;5;241;43m.\u001b[39;49m\u001b[43mcluster_tree\u001b[49m\u001b[38;5;241;43m.\u001b[39;49m\u001b[43mprune_tree\u001b[49m\u001b[43m(\u001b[49m\u001b[43mpruning_threshold\u001b[49m\u001b[43m)\u001b[49m\n\u001b[1;32m    893\u001b[0m     \u001b[38;5;28;01mif\u001b[39;00m (e \u001b[38;5;241m>\u001b[39m \u001b[38;5;241m0\u001b[39m \u001b[38;5;129;01mand\u001b[39;00m e \u001b[38;5;241m%\u001b[39m grow_interval \u001b[38;5;241m==\u001b[39m \u001b[38;5;241m0\u001b[39m) \u001b[38;5;129;01mor\u001b[39;00m \u001b[38;5;28mself\u001b[39m\u001b[38;5;241m.\u001b[39mcluster_tree\u001b[38;5;241m.\u001b[39mnumber_nodes \u001b[38;5;241m<\u001b[39m \u001b[38;5;241m3\u001b[39m:\n\u001b[1;32m    894\u001b[0m         \u001b[38;5;28;01mif\u001b[39;00m \u001b[38;5;28mlen\u001b[39m(\u001b[38;5;28mself\u001b[39m\u001b[38;5;241m.\u001b[39mcluster_tree\u001b[38;5;241m.\u001b[39mleaf_nodes) \u001b[38;5;241m>\u001b[39m\u001b[38;5;241m=\u001b[39m max_leaf_nodes:\n",
      "File \u001b[0;32m~/projects/deepclustering/LMU_Master_Practical_SoSe24/practical/DeepClustering/DeepECT/deepect.py:710\u001b[0m, in \u001b[0;36mCluster_Tree.prune_tree\u001b[0;34m(self, pruning_threshold)\u001b[0m\n\u001b[1;32m    704\u001b[0m             \u001b[38;5;28;01mif\u001b[39;00m (\n\u001b[1;32m    705\u001b[0m                 \u001b[38;5;28mself\u001b[39m\u001b[38;5;241m.\u001b[39mroot\u001b[38;5;241m.\u001b[39mright_child\n\u001b[1;32m    706\u001b[0m                 \u001b[38;5;129;01mand\u001b[39;00m \u001b[38;5;28mself\u001b[39m\u001b[38;5;241m.\u001b[39mroot\u001b[38;5;241m.\u001b[39mright_child\u001b[38;5;241m.\u001b[39mweight \u001b[38;5;241m<\u001b[39m pruning_threshold\n\u001b[1;32m    707\u001b[0m             ):\n\u001b[1;32m    708\u001b[0m                 prune_node(\u001b[38;5;28mself\u001b[39m\u001b[38;5;241m.\u001b[39mroot, \u001b[38;5;124m\"\u001b[39m\u001b[38;5;124mright_child\u001b[39m\u001b[38;5;124m\"\u001b[39m)\n\u001b[0;32m--> 710\u001b[0m \u001b[43mprune_recursive\u001b[49m\u001b[43m(\u001b[49m\u001b[38;5;28;43mself\u001b[39;49m\u001b[38;5;241;43m.\u001b[39;49m\u001b[43mroot\u001b[49m\u001b[43m)\u001b[49m\n",
      "File \u001b[0;32m~/projects/deepclustering/LMU_Master_Practical_SoSe24/practical/DeepClustering/DeepECT/deepect.py:688\u001b[0m, in \u001b[0;36mCluster_Tree.prune_tree.<locals>.prune_recursive\u001b[0;34m(node)\u001b[0m\n\u001b[1;32m    678\u001b[0m \u001b[38;5;250m\u001b[39m\u001b[38;5;124;03m\"\"\"\u001b[39;00m\n\u001b[1;32m    679\u001b[0m \u001b[38;5;124;03mRecursively prunes the tree starting from the given node.\u001b[39;00m\n\u001b[1;32m    680\u001b[0m \n\u001b[0;32m   (...)\u001b[0m\n\u001b[1;32m    685\u001b[0m \u001b[38;5;124;03mNone\u001b[39;00m\n\u001b[1;32m    686\u001b[0m \u001b[38;5;124;03m\"\"\"\u001b[39;00m\n\u001b[1;32m    687\u001b[0m \u001b[38;5;28;01mif\u001b[39;00m node\u001b[38;5;241m.\u001b[39mleft_child:\n\u001b[0;32m--> 688\u001b[0m     \u001b[43mprune_recursive\u001b[49m\u001b[43m(\u001b[49m\u001b[43mnode\u001b[49m\u001b[38;5;241;43m.\u001b[39;49m\u001b[43mleft_child\u001b[49m\u001b[43m)\u001b[49m\n\u001b[1;32m    689\u001b[0m \u001b[38;5;28;01mif\u001b[39;00m node\u001b[38;5;241m.\u001b[39mright_child:\n\u001b[1;32m    690\u001b[0m     prune_recursive(node\u001b[38;5;241m.\u001b[39mright_child)\n",
      "File \u001b[0;32m~/projects/deepclustering/LMU_Master_Practical_SoSe24/practical/DeepClustering/DeepECT/deepect.py:688\u001b[0m, in \u001b[0;36mCluster_Tree.prune_tree.<locals>.prune_recursive\u001b[0;34m(node)\u001b[0m\n\u001b[1;32m    678\u001b[0m \u001b[38;5;250m\u001b[39m\u001b[38;5;124;03m\"\"\"\u001b[39;00m\n\u001b[1;32m    679\u001b[0m \u001b[38;5;124;03mRecursively prunes the tree starting from the given node.\u001b[39;00m\n\u001b[1;32m    680\u001b[0m \n\u001b[0;32m   (...)\u001b[0m\n\u001b[1;32m    685\u001b[0m \u001b[38;5;124;03mNone\u001b[39;00m\n\u001b[1;32m    686\u001b[0m \u001b[38;5;124;03m\"\"\"\u001b[39;00m\n\u001b[1;32m    687\u001b[0m \u001b[38;5;28;01mif\u001b[39;00m node\u001b[38;5;241m.\u001b[39mleft_child:\n\u001b[0;32m--> 688\u001b[0m     \u001b[43mprune_recursive\u001b[49m\u001b[43m(\u001b[49m\u001b[43mnode\u001b[49m\u001b[38;5;241;43m.\u001b[39;49m\u001b[43mleft_child\u001b[49m\u001b[43m)\u001b[49m\n\u001b[1;32m    689\u001b[0m \u001b[38;5;28;01mif\u001b[39;00m node\u001b[38;5;241m.\u001b[39mright_child:\n\u001b[1;32m    690\u001b[0m     prune_recursive(node\u001b[38;5;241m.\u001b[39mright_child)\n",
      "File \u001b[0;32m~/projects/deepclustering/LMU_Master_Practical_SoSe24/practical/DeepClustering/DeepECT/deepect.py:688\u001b[0m, in \u001b[0;36mCluster_Tree.prune_tree.<locals>.prune_recursive\u001b[0;34m(node)\u001b[0m\n\u001b[1;32m    678\u001b[0m \u001b[38;5;250m\u001b[39m\u001b[38;5;124;03m\"\"\"\u001b[39;00m\n\u001b[1;32m    679\u001b[0m \u001b[38;5;124;03mRecursively prunes the tree starting from the given node.\u001b[39;00m\n\u001b[1;32m    680\u001b[0m \n\u001b[0;32m   (...)\u001b[0m\n\u001b[1;32m    685\u001b[0m \u001b[38;5;124;03mNone\u001b[39;00m\n\u001b[1;32m    686\u001b[0m \u001b[38;5;124;03m\"\"\"\u001b[39;00m\n\u001b[1;32m    687\u001b[0m \u001b[38;5;28;01mif\u001b[39;00m node\u001b[38;5;241m.\u001b[39mleft_child:\n\u001b[0;32m--> 688\u001b[0m     \u001b[43mprune_recursive\u001b[49m\u001b[43m(\u001b[49m\u001b[43mnode\u001b[49m\u001b[38;5;241;43m.\u001b[39;49m\u001b[43mleft_child\u001b[49m\u001b[43m)\u001b[49m\n\u001b[1;32m    689\u001b[0m \u001b[38;5;28;01mif\u001b[39;00m node\u001b[38;5;241m.\u001b[39mright_child:\n\u001b[1;32m    690\u001b[0m     prune_recursive(node\u001b[38;5;241m.\u001b[39mright_child)\n",
      "File \u001b[0;32m~/projects/deepclustering/LMU_Master_Practical_SoSe24/practical/DeepClustering/DeepECT/deepect.py:692\u001b[0m, in \u001b[0;36mCluster_Tree.prune_tree.<locals>.prune_recursive\u001b[0;34m(node)\u001b[0m\n\u001b[1;32m    689\u001b[0m \u001b[38;5;28;01mif\u001b[39;00m node\u001b[38;5;241m.\u001b[39mright_child:\n\u001b[1;32m    690\u001b[0m     prune_recursive(node\u001b[38;5;241m.\u001b[39mright_child)\n\u001b[0;32m--> 692\u001b[0m \u001b[38;5;28;01mif\u001b[39;00m node\u001b[38;5;241m.\u001b[39mweight \u001b[38;5;241m<\u001b[39m pruning_threshold:\n\u001b[1;32m    693\u001b[0m     \u001b[38;5;28;01mif\u001b[39;00m node\u001b[38;5;241m.\u001b[39mparent \u001b[38;5;129;01mis\u001b[39;00m \u001b[38;5;129;01mnot\u001b[39;00m \u001b[38;5;28;01mNone\u001b[39;00m:\n\u001b[1;32m    694\u001b[0m         \u001b[38;5;28;01mif\u001b[39;00m node\u001b[38;5;241m.\u001b[39mparent\u001b[38;5;241m.\u001b[39mleft_child \u001b[38;5;241m==\u001b[39m node:\n",
      "\u001b[0;31mKeyboardInterrupt\u001b[0m: "
     ]
    }
   ],
   "source": [
    "flat_mnist, hierarchical_mnist = evaluate(\n",
    "    init_autoencoder=FeedforwardAutoencoder, dataset_type=DatasetType.MNIST, seed=42\n",
    ")"
   ]
  },
  {
   "cell_type": "code",
   "execution_count": null,
   "metadata": {},
   "outputs": [],
   "source": [
    "flat_usps, hierarchical_usps = evaluate(\n",
    "    init_autoencoder=FeedforwardAutoencoder, dataset_type=DatasetType.USPS, seed=42\n",
    ")"
   ]
  },
  {
   "cell_type": "code",
   "execution_count": null,
   "metadata": {},
   "outputs": [],
   "source": [
    "flat_fashion, hierarchical_fashion = evaluate(\n",
    "    init_autoencoder=FeedforwardAutoencoder, dataset_type=DatasetType.FASHION_MNIST, seed=42\n",
    ")"
   ]
  },
  {
   "cell_type": "code",
   "execution_count": null,
   "metadata": {},
   "outputs": [],
   "source": [
    "flat_reuters, hierarchical_reuters = evaluate(\n",
    "    init_autoencoder=FeedforwardAutoencoder, dataset_type=DatasetType.REUTERS, seed=42\n",
    ")"
   ]
  },
  {
   "cell_type": "markdown",
   "metadata": {},
   "source": [
    "## Flat Clustering"
   ]
  },
  {
   "cell_type": "code",
   "execution_count": null,
   "metadata": {},
   "outputs": [],
   "source": [
    "flat_combined_df = pd.concat([flat_mnist, flat_usps, flat_fashion, flat_reuters], ignore_index=True)\n",
    "# Pivot the DataFrame to match the desired format\n",
    "pivot_df = flat_combined_df.pivot(index='method', columns='dataset', values=['nmi', 'acc', 'ari'])\n",
    "\n",
    "# Reorder the columns to match the order in the image\n",
    "pivot_df = pivot_df.reindex(columns=[('nmi', DatasetType.MNIST.value), ('acc', DatasetType.MNIST.value), ('ari', DatasetType.MNIST.value),\n",
    "                                     ('nmi', DatasetType.USPS.value), ('acc', DatasetType.USPS.value), ('ari', DatasetType.USPS.value),\n",
    "                                     ('nmi', DatasetType.FASHION_MNIST.value), ('acc', DatasetType.FASHION_MNIST.value), ('ari', DatasetType.FASHION_MNIST.value),\n",
    "                                     ('nmi', DatasetType.REUTERS.value), ('acc', DatasetType.REUTERS.value), ('ari', DatasetType.REUTERS.value)])\n",
    "\n",
    "\n",
    "# For Jupyter Notebook display with better formatting\n",
    "pivot_df.style.set_table_styles([\n",
    "    {'selector': 'thead th', 'props': [('background-color', '#f7f7f9'), \n",
    "                                       ('color', '#333'), \n",
    "                                       ('border', '1px solid #ddd')]},\n",
    "    {'selector': 'tbody tr:nth-child(even)', 'props': [('background-color', '#f9f9f9'), ('color', '#333')]},\n",
    "    {'selector': 'tbody tr:nth-child(odd)', 'props': [('background-color', '#fff'), ('color', '#333') ]}\n",
    "]).set_caption(\"Results Table\")"
   ]
  },
  {
   "cell_type": "markdown",
   "metadata": {},
   "source": [
    "## Hierarchical Clustering"
   ]
  },
  {
   "cell_type": "code",
   "execution_count": null,
   "metadata": {},
   "outputs": [],
   "source": [
    "hierarchical_combined = pd.concat([hierarchical_mnist, hierarchical_usps, hierarchical_fashion, hierarchical_reuters], ignore_index=True)\n",
    "# Pivot the DataFrame to match the desired format\n",
    "pivot_df = hierarchical_combined.pivot(index='method', columns='dataset', values=['dp', 'lp'])\n",
    "\n",
    "# Reorder the columns to match the order in the image\n",
    "pivot_df = pivot_df.reindex(columns=[('dp', DatasetType.MNIST.value), ('lp', DatasetType.MNIST.value), \n",
    "                                     ('dp', DatasetType.USPS.value), ('lp', DatasetType.USPS.value),\n",
    "                                     ('dp', DatasetType.FASHION_MNIST.value), ('lp', DatasetType.FASHION_MNIST.value),\n",
    "                                     ('dp', DatasetType.REUTERS.value), ('lp', DatasetType.REUTERS.value)])\n",
    "\n",
    "\n",
    "# For Jupyter Notebook display with better formatting\n",
    "pivot_df.style.set_table_styles([\n",
    "    {'selector': 'thead th', 'props': [('background-color', '#f7f7f9'), \n",
    "                                       ('color', '#333'), \n",
    "                                       ('border', '1px solid #ddd')]},\n",
    "    {'selector': 'tbody tr:nth-child(even)', 'props': [('background-color', '#f9f9f9'), ('color', '#333')]},\n",
    "    {'selector': 'tbody tr:nth-child(odd)', 'props': [('background-color', '#fff'), ('color', '#333') ]}\n",
    "]).set_caption(\"Results Table\")"
   ]
  }
 ],
 "metadata": {
  "kernelspec": {
   "display_name": "base",
   "language": "python",
   "name": "python3"
  },
  "language_info": {
   "codemirror_mode": {
    "name": "ipython",
    "version": 3
   },
   "file_extension": ".py",
   "mimetype": "text/x-python",
   "name": "python",
   "nbconvert_exporter": "python",
   "pygments_lexer": "ipython3",
   "version": "3.10.9"
  }
 },
 "nbformat": 4,
 "nbformat_minor": 2
}
