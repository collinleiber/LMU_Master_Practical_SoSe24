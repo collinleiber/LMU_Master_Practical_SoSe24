{
 "cells": [
  {
   "cell_type": "markdown",
   "metadata": {},
   "source": [
    "# Evaluation"
   ]
  },
  {
   "cell_type": "code",
   "execution_count": 11,
   "metadata": {},
   "outputs": [
    {
     "name": "stdout",
     "output_type": "stream",
     "text": [
      "/Users/niklas/Documents/LMU/4_Semester/Deep_Clustering/LMU_Master_Practical_SoSe24\n",
      "/Users/niklas/Documents/LMU/4_Semester/Deep_Clustering/LMU_Master_Practical_SoSe24\n"
     ]
    },
    {
     "name": "stderr",
     "output_type": "stream",
     "text": [
      "/Users/niklas/.local/lib/python3.10/site-packages/IPython/core/magics/osm.py:417: UserWarning: using dhist requires you to install the `pickleshare` library.\n",
      "  self.shell.db['dhist'] = compress_dhist(dhist)[-100:]\n"
     ]
    }
   ],
   "source": [
    "import sys\n",
    "import os\n",
    "\n",
    "repo_path = os.path.sep.join(os.getcwd().split(os.path.sep)[:-3])\n",
    "print(repo_path)\n",
    "sys.path.append(repo_path)\n",
    "%cd ../../.."
   ]
  },
  {
   "cell_type": "code",
   "execution_count": 12,
   "metadata": {},
   "outputs": [
    {
     "ename": "ModuleNotFoundError",
     "evalue": "No module named 'DeepECT'",
     "output_type": "error",
     "traceback": [
      "\u001b[0;31m---------------------------------------------------------------------------\u001b[0m",
      "\u001b[0;31mModuleNotFoundError\u001b[0m                       Traceback (most recent call last)",
      "Cell \u001b[0;32mIn[12], line 2\u001b[0m\n\u001b[1;32m      1\u001b[0m \u001b[38;5;28;01mfrom\u001b[39;00m \u001b[38;5;21;01mclustpy\u001b[39;00m\u001b[38;5;21;01m.\u001b[39;00m\u001b[38;5;21;01mdeep\u001b[39;00m\u001b[38;5;21;01m.\u001b[39;00m\u001b[38;5;21;01mautoencoders\u001b[39;00m \u001b[38;5;28;01mimport\u001b[39;00m FeedforwardAutoencoder\n\u001b[0;32m----> 2\u001b[0m \u001b[38;5;28;01mfrom\u001b[39;00m \u001b[38;5;21;01mpractical\u001b[39;00m\u001b[38;5;21;01m.\u001b[39;00m\u001b[38;5;21;01mDeepClustering\u001b[39;00m\u001b[38;5;21;01m.\u001b[39;00m\u001b[38;5;21;01mDeepECT\u001b[39;00m\u001b[38;5;21;01m.\u001b[39;00m\u001b[38;5;21;01mevaluation_pipeline\u001b[39;00m \u001b[38;5;28;01mimport\u001b[39;00m DatasetType, evaluate\n",
      "File \u001b[0;32m~/Documents/LMU/4_Semester/Deep_Clustering/LMU_Master_Practical_SoSe24/practical/DeepClustering/DeepECT/evaluation_pipeline.py:9\u001b[0m\n\u001b[1;32m      5\u001b[0m \u001b[38;5;28;01mimport\u001b[39;00m \u001b[38;5;21;01mnumpy\u001b[39;00m \u001b[38;5;28;01mas\u001b[39;00m \u001b[38;5;21;01mnp\u001b[39;00m\n\u001b[1;32m      6\u001b[0m \u001b[38;5;28;01mimport\u001b[39;00m \u001b[38;5;21;01mpandas\u001b[39;00m \u001b[38;5;28;01mas\u001b[39;00m \u001b[38;5;21;01mpd\u001b[39;00m\n\u001b[0;32m----> 9\u001b[0m \u001b[38;5;28;01mfrom\u001b[39;00m \u001b[38;5;21;01mbaseline_hierachical\u001b[39;00m\u001b[38;5;21;01m.\u001b[39;00m\u001b[38;5;21;01mae_plus\u001b[39;00m \u001b[38;5;28;01mimport\u001b[39;00m \u001b[38;5;241m*\u001b[39m\n\u001b[1;32m     10\u001b[0m sys\u001b[38;5;241m.\u001b[39mpath\u001b[38;5;241m.\u001b[39mappend(os\u001b[38;5;241m.\u001b[39mgetcwd())\n\u001b[1;32m     12\u001b[0m \u001b[38;5;28;01mfrom\u001b[39;00m \u001b[38;5;21;01menum\u001b[39;00m \u001b[38;5;28;01mimport\u001b[39;00m Enum\n",
      "File \u001b[0;32m~/Documents/LMU/4_Semester/Deep_Clustering/LMU_Master_Practical_SoSe24/practical/DeepClustering/DeepECT/baseline_hierachical/ae_plus.py:9\u001b[0m\n\u001b[1;32m      7\u001b[0m \u001b[38;5;28;01mimport\u001b[39;00m \u001b[38;5;21;01msys\u001b[39;00m\n\u001b[1;32m      8\u001b[0m sys\u001b[38;5;241m.\u001b[39mpath\u001b[38;5;241m.\u001b[39mappend(\u001b[38;5;124m\"\u001b[39m\u001b[38;5;124m/Users/zy/LMU_Master_Practical_SoSe24/practical/DeepClustering\u001b[39m\u001b[38;5;124m\"\u001b[39m)\n\u001b[0;32m----> 9\u001b[0m \u001b[38;5;28;01mfrom\u001b[39;00m \u001b[38;5;21;01mDeepECT\u001b[39;00m\u001b[38;5;21;01m.\u001b[39;00m\u001b[38;5;21;01mbaseline_hierachical\u001b[39;00m\u001b[38;5;21;01m.\u001b[39;00m\u001b[38;5;21;01mmethods\u001b[39;00m\u001b[38;5;21;01m.\u001b[39;00m\u001b[38;5;21;01mdendrogram_purity\u001b[39;00m \u001b[38;5;28;01mimport\u001b[39;00m \u001b[38;5;241m*\u001b[39m\n\u001b[1;32m     10\u001b[0m \u001b[38;5;28;01mfrom\u001b[39;00m \u001b[38;5;21;01mDeepECT\u001b[39;00m\u001b[38;5;21;01m.\u001b[39;00m\u001b[38;5;21;01mbaseline_hierachical\u001b[39;00m\u001b[38;5;21;01m.\u001b[39;00m\u001b[38;5;21;01mmethods\u001b[39;00m\u001b[38;5;21;01m.\u001b[39;00m\u001b[38;5;21;01mbisceting_kmeans\u001b[39;00m \u001b[38;5;28;01mimport\u001b[39;00m \u001b[38;5;241m*\u001b[39m\n\u001b[1;32m     11\u001b[0m \u001b[38;5;28;01mfrom\u001b[39;00m \u001b[38;5;21;01mmetrics\u001b[39;00m \u001b[38;5;28;01mimport\u001b[39;00m dendrogram_purity, leaf_purity\n",
      "\u001b[0;31mModuleNotFoundError\u001b[0m: No module named 'DeepECT'"
     ]
    }
   ],
   "source": [
    "import pandas as pd\n",
    "from clustpy.deep.autoencoders import FeedforwardAutoencoder\n",
    "from practical.DeepClustering.DeepECT.evaluation_pipeline import DatasetType, evaluate"
   ]
  },
  {
   "cell_type": "code",
   "execution_count": null,
   "metadata": {},
   "outputs": [],
   "source": [
    "flat_mnist, hierarchical_mnist = evaluate(\n",
    "    init_autoencoder=FeedforwardAutoencoder, dataset_type=DatasetType.MNIST, seed=42\n",
    ")"
   ]
  },
  {
   "cell_type": "code",
   "execution_count": null,
   "metadata": {},
   "outputs": [],
   "source": [
    "flat_usps, hierarchical_usps = evaluate(\n",
    "    init_autoencoder=FeedforwardAutoencoder, dataset_type=DatasetType.USPS, seed=42\n",
    ")"
   ]
  },
  {
   "cell_type": "code",
   "execution_count": null,
   "metadata": {},
   "outputs": [],
   "source": [
    "flat_fashion, hierarchical_fashion = evaluate(\n",
    "    init_autoencoder=FeedforwardAutoencoder, dataset_type=DatasetType.FASHION_MNIST, seed=42\n",
    ")"
   ]
  },
  {
   "cell_type": "code",
   "execution_count": null,
   "metadata": {},
   "outputs": [],
   "source": [
    "flat_reuters, hierarchical_reuters = evaluate(\n",
    "    init_autoencoder=FeedforwardAutoencoder, dataset_type=DatasetType.REUTERS, seed=42\n",
    ")"
   ]
  },
  {
   "cell_type": "markdown",
   "metadata": {},
   "source": [
    "## Flat Clustering"
   ]
  },
  {
   "cell_type": "code",
   "execution_count": null,
   "metadata": {},
   "outputs": [],
   "source": [
    "flat_combined_df = pd.concat([flat_mnist, flat_usps, flat_fashion, flat_reuters], ignore_index=True)\n",
    "# Pivot the DataFrame to match the desired format\n",
    "pivot_df = flat_combined_df.pivot(index='method', columns='dataset', values=['nmi', 'acc', 'ari'])\n",
    "\n",
    "# Reorder the columns to match the order in the image\n",
    "pivot_df = pivot_df.reindex(columns=[('nmi', DatasetType.MNIST.value), ('acc', DatasetType.MNIST.value), ('ari', DatasetType.MNIST.value),\n",
    "                                     ('nmi', DatasetType.USPS.value), ('acc', DatasetType.USPS.value), ('ari', DatasetType.USPS.value),\n",
    "                                     ('nmi', DatasetType.FASHION_MNIST.value), ('acc', DatasetType.FASHION_MNIST.value), ('ari', DatasetType.FASHION_MNIST.value),\n",
    "                                     ('nmi', DatasetType.REUTERS.value), ('acc', DatasetType.REUTERS.value), ('ari', DatasetType.REUTERS.value)])\n",
    "\n",
    "\n",
    "# For Jupyter Notebook display with better formatting\n",
    "pivot_df.style.set_table_styles([\n",
    "    {'selector': 'thead th', 'props': [('background-color', '#f7f7f9'), \n",
    "                                       ('color', '#333'), \n",
    "                                       ('border', '1px solid #ddd')]},\n",
    "    {'selector': 'tbody tr:nth-child(even)', 'props': [('background-color', '#f9f9f9'), ('color', '#333')]},\n",
    "    {'selector': 'tbody tr:nth-child(odd)', 'props': [('background-color', '#fff'), ('color', '#333') ]}\n",
    "]).set_caption(\"Results Table\")"
   ]
  },
  {
   "cell_type": "markdown",
   "metadata": {},
   "source": [
    "## Hierarchical Clustering"
   ]
  },
  {
   "cell_type": "code",
   "execution_count": null,
   "metadata": {},
   "outputs": [],
   "source": [
    "hierarchical_combined = pd.concat([hierarchical_mnist, hierarchical_usps, hierarchical_fashion, hierarchical_reuters], ignore_index=True)\n",
    "# Pivot the DataFrame to match the desired format\n",
    "pivot_df = hierarchical_combined.pivot(index='method', columns='dataset', values=['dp', 'lp'])\n",
    "\n",
    "# Reorder the columns to match the order in the image\n",
    "pivot_df = pivot_df.reindex(columns=[('dp', DatasetType.MNIST.value), ('lp', DatasetType.MNIST.value), \n",
    "                                     ('dp', DatasetType.USPS.value), ('lp', DatasetType.USPS.value),\n",
    "                                     ('dp', DatasetType.FASHION_MNIST.value), ('lp', DatasetType.FASHION_MNIST.value),\n",
    "                                     ('dp', DatasetType.REUTERS.value), ('lp', DatasetType.REUTERS.value)])\n",
    "\n",
    "\n",
    "# For Jupyter Notebook display with better formatting\n",
    "pivot_df.style.set_table_styles([\n",
    "    {'selector': 'thead th', 'props': [('background-color', '#f7f7f9'), \n",
    "                                       ('color', '#333'), \n",
    "                                       ('border', '1px solid #ddd')]},\n",
    "    {'selector': 'tbody tr:nth-child(even)', 'props': [('background-color', '#f9f9f9'), ('color', '#333')]},\n",
    "    {'selector': 'tbody tr:nth-child(odd)', 'props': [('background-color', '#fff'), ('color', '#333') ]}\n",
    "]).set_caption(\"Results Table\")"
   ]
  }
 ],
 "metadata": {
  "kernelspec": {
   "display_name": "base",
   "language": "python",
   "name": "python3"
  },
  "language_info": {
   "codemirror_mode": {
    "name": "ipython",
    "version": 3
   },
   "file_extension": ".py",
   "mimetype": "text/x-python",
   "name": "python",
   "nbconvert_exporter": "python",
   "pygments_lexer": "ipython3",
   "version": "3.10.9"
  }
 },
 "nbformat": 4,
 "nbformat_minor": 2
}
