{
 "cells": [
  {
   "cell_type": "code",
   "execution_count": 4,
   "metadata": {},
   "outputs": [
    {
     "name": "stdout",
     "output_type": "stream",
     "text": [
      "/home/loebbert/projects/deepclustering/LMU_Master_Practical_SoSe24/practical/DeepClustering/DeepECT\n"
     ]
    },
    {
     "data": {
      "text/plain": [
       "[31,\n",
       " 41,\n",
       " 42,\n",
       " 44,\n",
       " 46,\n",
       " 48,\n",
       " 49,\n",
       " 50,\n",
       " 71,\n",
       " 52,\n",
       " 53,\n",
       " 55,\n",
       " 56,\n",
       " 54,\n",
       " 60,\n",
       " 72,\n",
       " 73,\n",
       " 58,\n",
       " 63,\n",
       " 64,\n",
       " 65,\n",
       " 66,\n",
       " 36]"
      ]
     },
     "execution_count": 4,
     "metadata": {},
     "output_type": "execute_result"
    }
   ],
   "source": [
    "import torch\n",
    "import os\n",
    "from deepect import DeepECT, Cluster_Node, Cluster_Tree\n",
    "print(os.getcwd())\n",
    "deepect_reuters: DeepECT = torch.load(\"reuters_deepect.pth\")\n",
    "[node.id for node in deepect_reuters.DeepECT_tree_.nodes]"
   ]
  }
 ],
 "metadata": {
  "kernelspec": {
   "display_name": "base",
   "language": "python",
   "name": "python3"
  },
  "language_info": {
   "codemirror_mode": {
    "name": "ipython",
    "version": 3
   },
   "file_extension": ".py",
   "mimetype": "text/x-python",
   "name": "python",
   "nbconvert_exporter": "python",
   "pygments_lexer": "ipython3",
   "version": "3.10.9"
  }
 },
 "nbformat": 4,
 "nbformat_minor": 2
}
