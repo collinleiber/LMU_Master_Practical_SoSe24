{
 "cells": [
  {
   "cell_type": "markdown",
   "metadata": {},
   "source": [
    "# Evaluation"
   ]
  },
  {
   "cell_type": "code",
   "execution_count": 1,
   "metadata": {},
   "outputs": [
    {
     "name": "stdout",
     "output_type": "stream",
     "text": [
      "/home/loebbert/projects/deepclustering/LMU_Master_Practical_SoSe24\n",
      "/home/loebbert/projects/deepclustering/LMU_Master_Practical_SoSe24\n"
     ]
    }
   ],
   "source": [
    "import sys\n",
    "import os\n",
    "\n",
    "repo_path = os.path.sep.join(os.getcwd().split(os.path.sep)[:-3])\n",
    "print(repo_path)\n",
    "sys.path.append(repo_path)\n",
    "%cd ../../.."
   ]
  },
  {
   "cell_type": "code",
   "execution_count": 2,
   "metadata": {},
   "outputs": [
    {
     "name": "stdout",
     "output_type": "stream",
     "text": [
      "[WARNING] Could not import cv2 in clustpy.data.real_video_data. Please install cv2 by 'pip install opencv-python' if necessary\n"
     ]
    }
   ],
   "source": [
    "import pandas as pd\n",
    "from clustpy.deep.autoencoders import FeedforwardAutoencoder\n",
    "from practical.DeepClustering.DeepECT.evaluation_pipeline import DatasetType, evaluate"
   ]
  },
  {
   "cell_type": "code",
   "execution_count": 3,
   "metadata": {},
   "outputs": [
    {
     "name": "stdout",
     "output_type": "stream",
     "text": [
      "Autoencoder parameters loaded from file.\n",
      "fitting idec hierarchical...\n",
      "(0.41183871191452737, 0.41384112752189417, 0.5973571428571428, 0.5973571428571428)\n",
      "(0.35107772585381963, 0.3529793273919389, 0.5275285714285715, 0.5275285714285715)\n",
      "(0.27372871943098304, 0.2751236406427563, 0.43582857142857145, 0.43582857142857145)\n",
      "(0.20685188946940777, 0.20737004801181494, 0.3418285714285714, 0.3418285714285714)\n",
      "(0.14949458782223837, 0.14959869030818884, 0.2523, 0.2523)\n",
      "(0.11602652371086988, 0.11600073481371427, 0.18327142857142859, 0.18327142857142859)\n",
      "(0.10806501494352981, 0.10806562549161555, 0.1548142857142857, 0.1548142857142857)\n",
      "(0.10147788101865471, 0.10147645502703018, 0.12572857142857144, 0.12572857142857144)\n",
      "(0.10072041884071684, 0.1007198262175098, 0.11757142857142858, 0.11757142857142858)\n",
      "(0.1006103845633751, 0.10061038498669496, 0.11394285714285714, 0.11394285714285714)\n",
      "(0.10059781690884023, 0.10059781690884023, 0.11302857142857142, 0.11302857142857142)\n",
      "(0.1005951680506431, 0.10059516805064309, 0.11262857142857143, 0.11262857142857143)\n",
      "(0.10059498054677574, 0.10059498054677575, 0.1126, 0.1126)\n",
      "(0.10059484531994112, 0.10059484531994113, 0.11257142857142859, 0.11257142857142859)\n",
      "(0.10059467543176581, 0.10059467543176581, 0.11252857142857142, 0.11252857142857142)\n",
      "(0.10059467543176581, 0.10059467543176581, 0.11252857142857142, 0.11252857142857142)\n",
      "(0.10059467543176581, 0.10059467543176581, 0.11252857142857142, 0.11252857142857142)\n",
      "(0.10059467543176581, 0.10059467543176581, 0.11252857142857142, 0.11252857142857142)\n",
      "(0.10059467543176581, 0.10059467543176581, 0.11252857142857142, 0.11252857142857142)\n",
      "(0.10059467543176581, 0.10059467543176581, 0.11252857142857142, 0.11252857142857142)\n",
      "finished idec hierarchical...\n",
      "fitting ae_bisecting...\n"
     ]
    },
    {
     "name": "stderr",
     "output_type": "stream",
     "text": [
      "/home/loebbert/miniconda3/lib/python3.10/site-packages/sklearn/cluster/_kmeans.py:870: FutureWarning: The default value of `n_init` will change from 10 to 'auto' in 1.4. Set the value of `n_init` explicitly to suppress the warning\n",
      "  warnings.warn(\n",
      "/home/loebbert/miniconda3/lib/python3.10/site-packages/sklearn/cluster/_kmeans.py:870: FutureWarning: The default value of `n_init` will change from 10 to 'auto' in 1.4. Set the value of `n_init` explicitly to suppress the warning\n",
      "  warnings.warn(\n",
      "/home/loebbert/miniconda3/lib/python3.10/site-packages/sklearn/cluster/_kmeans.py:870: FutureWarning: The default value of `n_init` will change from 10 to 'auto' in 1.4. Set the value of `n_init` explicitly to suppress the warning\n",
      "  warnings.warn(\n",
      "/home/loebbert/miniconda3/lib/python3.10/site-packages/sklearn/cluster/_kmeans.py:870: FutureWarning: The default value of `n_init` will change from 10 to 'auto' in 1.4. Set the value of `n_init` explicitly to suppress the warning\n",
      "  warnings.warn(\n",
      "/home/loebbert/miniconda3/lib/python3.10/site-packages/sklearn/cluster/_kmeans.py:870: FutureWarning: The default value of `n_init` will change from 10 to 'auto' in 1.4. Set the value of `n_init` explicitly to suppress the warning\n",
      "  warnings.warn(\n",
      "/home/loebbert/miniconda3/lib/python3.10/site-packages/sklearn/cluster/_kmeans.py:870: FutureWarning: The default value of `n_init` will change from 10 to 'auto' in 1.4. Set the value of `n_init` explicitly to suppress the warning\n",
      "  warnings.warn(\n",
      "/home/loebbert/miniconda3/lib/python3.10/site-packages/sklearn/cluster/_kmeans.py:870: FutureWarning: The default value of `n_init` will change from 10 to 'auto' in 1.4. Set the value of `n_init` explicitly to suppress the warning\n",
      "  warnings.warn(\n",
      "/home/loebbert/miniconda3/lib/python3.10/site-packages/sklearn/cluster/_kmeans.py:870: FutureWarning: The default value of `n_init` will change from 10 to 'auto' in 1.4. Set the value of `n_init` explicitly to suppress the warning\n",
      "  warnings.warn(\n",
      "/home/loebbert/miniconda3/lib/python3.10/site-packages/sklearn/cluster/_kmeans.py:870: FutureWarning: The default value of `n_init` will change from 10 to 'auto' in 1.4. Set the value of `n_init` explicitly to suppress the warning\n",
      "  warnings.warn(\n",
      "/home/loebbert/miniconda3/lib/python3.10/site-packages/sklearn/cluster/_kmeans.py:870: FutureWarning: The default value of `n_init` will change from 10 to 'auto' in 1.4. Set the value of `n_init` explicitly to suppress the warning\n",
      "  warnings.warn(\n",
      "/home/loebbert/miniconda3/lib/python3.10/site-packages/sklearn/cluster/_kmeans.py:870: FutureWarning: The default value of `n_init` will change from 10 to 'auto' in 1.4. Set the value of `n_init` explicitly to suppress the warning\n",
      "  warnings.warn(\n",
      "/home/loebbert/miniconda3/lib/python3.10/site-packages/sklearn/cluster/_kmeans.py:870: FutureWarning: The default value of `n_init` will change from 10 to 'auto' in 1.4. Set the value of `n_init` explicitly to suppress the warning\n",
      "  warnings.warn(\n",
      "/home/loebbert/miniconda3/lib/python3.10/site-packages/sklearn/cluster/_kmeans.py:870: FutureWarning: The default value of `n_init` will change from 10 to 'auto' in 1.4. Set the value of `n_init` explicitly to suppress the warning\n",
      "  warnings.warn(\n",
      "/home/loebbert/miniconda3/lib/python3.10/site-packages/sklearn/cluster/_kmeans.py:870: FutureWarning: The default value of `n_init` will change from 10 to 'auto' in 1.4. Set the value of `n_init` explicitly to suppress the warning\n",
      "  warnings.warn(\n",
      "/home/loebbert/miniconda3/lib/python3.10/site-packages/sklearn/cluster/_kmeans.py:870: FutureWarning: The default value of `n_init` will change from 10 to 'auto' in 1.4. Set the value of `n_init` explicitly to suppress the warning\n",
      "  warnings.warn(\n",
      "/home/loebbert/miniconda3/lib/python3.10/site-packages/sklearn/cluster/_kmeans.py:870: FutureWarning: The default value of `n_init` will change from 10 to 'auto' in 1.4. Set the value of `n_init` explicitly to suppress the warning\n",
      "  warnings.warn(\n",
      "/home/loebbert/miniconda3/lib/python3.10/site-packages/sklearn/cluster/_kmeans.py:870: FutureWarning: The default value of `n_init` will change from 10 to 'auto' in 1.4. Set the value of `n_init` explicitly to suppress the warning\n",
      "  warnings.warn(\n",
      "/home/loebbert/miniconda3/lib/python3.10/site-packages/sklearn/cluster/_kmeans.py:870: FutureWarning: The default value of `n_init` will change from 10 to 'auto' in 1.4. Set the value of `n_init` explicitly to suppress the warning\n",
      "  warnings.warn(\n",
      "/home/loebbert/miniconda3/lib/python3.10/site-packages/sklearn/cluster/_kmeans.py:870: FutureWarning: The default value of `n_init` will change from 10 to 'auto' in 1.4. Set the value of `n_init` explicitly to suppress the warning\n",
      "  warnings.warn(\n"
     ]
    },
    {
     "name": "stdout",
     "output_type": "stream",
     "text": [
      "finished ae_bisecting...\n",
      "fitting DeepECT...\n",
      "cuda\n"
     ]
    },
    {
     "name": "stderr",
     "output_type": "stream",
     "text": [
      "Fit:   1%|          | 529/50000 [00:02<11:12, 73.60it/s] "
     ]
    },
    {
     "name": "stdout",
     "output_type": "stream",
     "text": [
      "Leaf assignments: 48726\n",
      "Tree size after growing: 5, leaf nodes: 3\n"
     ]
    },
    {
     "name": "stderr",
     "output_type": "stream",
     "text": [
      "Fit:   2%|▏         | 1041/50000 [00:05<09:28, 86.19it/s]"
     ]
    },
    {
     "name": "stdout",
     "output_type": "stream",
     "text": [
      "Leaf assignments: 30890\n",
      "Tree size after growing: 7, leaf nodes: 4\n"
     ]
    },
    {
     "name": "stderr",
     "output_type": "stream",
     "text": [
      "Fit:   3%|▎         | 1526/50000 [00:08<11:16, 71.66it/s] "
     ]
    },
    {
     "name": "stdout",
     "output_type": "stream",
     "text": [
      "Leaf assignments: 20641\n",
      "Tree size after growing: 9, leaf nodes: 5\n"
     ]
    },
    {
     "name": "stderr",
     "output_type": "stream",
     "text": [
      "Fit:   4%|▍         | 2025/50000 [00:12<11:05, 72.08it/s] "
     ]
    },
    {
     "name": "stdout",
     "output_type": "stream",
     "text": [
      "Leaf assignments: 15749\n",
      "Tree size after growing: 11, leaf nodes: 6\n"
     ]
    },
    {
     "name": "stderr",
     "output_type": "stream",
     "text": [
      "Fit:   5%|▌         | 2524/50000 [00:15<13:13, 59.86it/s] "
     ]
    },
    {
     "name": "stdout",
     "output_type": "stream",
     "text": [
      "Leaf assignments: 18317\n",
      "Tree size after growing: 13, leaf nodes: 7\n"
     ]
    },
    {
     "name": "stderr",
     "output_type": "stream",
     "text": [
      "Fit:   6%|▌         | 3024/50000 [00:19<13:48, 56.69it/s] "
     ]
    },
    {
     "name": "stdout",
     "output_type": "stream",
     "text": [
      "Leaf assignments: 12905\n",
      "Tree size after growing: 15, leaf nodes: 8\n"
     ]
    },
    {
     "name": "stderr",
     "output_type": "stream",
     "text": [
      "Fit:   7%|▋         | 3526/50000 [00:24<14:35, 53.07it/s] "
     ]
    },
    {
     "name": "stdout",
     "output_type": "stream",
     "text": [
      "Leaf assignments: 9866\n",
      "Tree size after growing: 17, leaf nodes: 9\n"
     ]
    },
    {
     "name": "stderr",
     "output_type": "stream",
     "text": [
      "Fit:   8%|▊         | 4017/50000 [00:28<17:33, 43.66it/s] "
     ]
    },
    {
     "name": "stdout",
     "output_type": "stream",
     "text": [
      "Leaf assignments: 12642\n",
      "Tree size after growing: 19, leaf nodes: 10\n"
     ]
    },
    {
     "name": "stderr",
     "output_type": "stream",
     "text": [
      "Fit:   9%|▉         | 4516/50000 [00:33<18:48, 40.31it/s] "
     ]
    },
    {
     "name": "stdout",
     "output_type": "stream",
     "text": [
      "Leaf assignments: 5851\n",
      "Tree size after growing: 21, leaf nodes: 11\n"
     ]
    },
    {
     "name": "stderr",
     "output_type": "stream",
     "text": [
      "Fit:  10%|█         | 5015/50000 [00:38<20:39, 36.28it/s] "
     ]
    },
    {
     "name": "stdout",
     "output_type": "stream",
     "text": [
      "Leaf assignments: 6448\n",
      "Tree size after growing: 23, leaf nodes: 12\n"
     ]
    },
    {
     "name": "stderr",
     "output_type": "stream",
     "text": [
      "Fit:  11%|█         | 5512/50000 [00:44<24:24, 30.38it/s] "
     ]
    },
    {
     "name": "stdout",
     "output_type": "stream",
     "text": [
      "Leaf assignments: 7400\n",
      "Tree size after growing: 25, leaf nodes: 13\n"
     ]
    },
    {
     "name": "stderr",
     "output_type": "stream",
     "text": [
      "Fit:  12%|█▏        | 6019/50000 [00:50<23:01, 31.83it/s] "
     ]
    },
    {
     "name": "stdout",
     "output_type": "stream",
     "text": [
      "Leaf assignments: 7024\n",
      "Tree size after growing: 27, leaf nodes: 14\n"
     ]
    },
    {
     "name": "stderr",
     "output_type": "stream",
     "text": [
      "Fit:  13%|█▎        | 6519/50000 [00:56<23:16, 31.14it/s] "
     ]
    },
    {
     "name": "stdout",
     "output_type": "stream",
     "text": [
      "Leaf assignments: 6409\n",
      "Tree size after growing: 29, leaf nodes: 15\n"
     ]
    },
    {
     "name": "stderr",
     "output_type": "stream",
     "text": [
      "Fit:  14%|█▍        | 7016/50000 [01:03<27:38, 25.91it/s]"
     ]
    },
    {
     "name": "stdout",
     "output_type": "stream",
     "text": [
      "Leaf assignments: 6728\n",
      "Tree size after growing: 31, leaf nodes: 16\n"
     ]
    },
    {
     "name": "stderr",
     "output_type": "stream",
     "text": [
      "Fit:  15%|█▌        | 7510/50000 [01:09<35:51, 19.75it/s]"
     ]
    },
    {
     "name": "stdout",
     "output_type": "stream",
     "text": [
      "Leaf assignments: 5644\n",
      "Tree size after growing: 33, leaf nodes: 17\n"
     ]
    },
    {
     "name": "stderr",
     "output_type": "stream",
     "text": [
      "Fit:  16%|█▌        | 8014/50000 [01:16<29:25, 23.78it/s]"
     ]
    },
    {
     "name": "stdout",
     "output_type": "stream",
     "text": [
      "Leaf assignments: 5095\n",
      "Tree size after growing: 35, leaf nodes: 18\n"
     ]
    },
    {
     "name": "stderr",
     "output_type": "stream",
     "text": [
      "Fit:  17%|█▋        | 8509/50000 [01:24<41:52, 16.52it/s]"
     ]
    },
    {
     "name": "stdout",
     "output_type": "stream",
     "text": [
      "Leaf assignments: 6625\n",
      "Tree size after growing: 37, leaf nodes: 19\n"
     ]
    },
    {
     "name": "stderr",
     "output_type": "stream",
     "text": [
      "Fit:  18%|█▊        | 9015/50000 [01:31<33:36, 20.32it/s]"
     ]
    },
    {
     "name": "stdout",
     "output_type": "stream",
     "text": [
      "Leaf assignments: 9069\n",
      "Tree size after growing: 39, leaf nodes: 20\n"
     ]
    },
    {
     "name": "stderr",
     "output_type": "stream",
     "text": [
      "Fit:  19%|█▉        | 9500/50000 [01:37<06:56, 97.16it/s]\n",
      "Predict: 100%|██████████| 274/274 [00:00<00:00, 351.28it/s]\n"
     ]
    },
    {
     "name": "stdout",
     "output_type": "stream",
     "text": [
      "finished DeepECT...\n",
      "fitting DeepECT+AUG...\n",
      "cuda\n"
     ]
    },
    {
     "name": "stderr",
     "output_type": "stream",
     "text": [
      "Fit:   1%|          | 504/50000 [00:36<19:17:14,  1.40s/it]"
     ]
    },
    {
     "name": "stdout",
     "output_type": "stream",
     "text": [
      "Leaf assignments: 48907\n",
      "Tree size after growing: 5, leaf nodes: 3\n"
     ]
    },
    {
     "name": "stderr",
     "output_type": "stream",
     "text": [
      "Fit:   2%|▏         | 1004/50000 [01:14<20:41:24,  1.52s/it]"
     ]
    },
    {
     "name": "stdout",
     "output_type": "stream",
     "text": [
      "Leaf assignments: 30972\n",
      "Tree size after growing: 7, leaf nodes: 4\n"
     ]
    },
    {
     "name": "stderr",
     "output_type": "stream",
     "text": [
      "Fit:   3%|▎         | 1504/50000 [01:51<20:18:02,  1.51s/it]"
     ]
    },
    {
     "name": "stdout",
     "output_type": "stream",
     "text": [
      "Leaf assignments: 21101\n",
      "Tree size after growing: 9, leaf nodes: 5\n"
     ]
    },
    {
     "name": "stderr",
     "output_type": "stream",
     "text": [
      "Fit:   4%|▍         | 2004/50000 [02:31<21:53:11,  1.64s/it]"
     ]
    },
    {
     "name": "stdout",
     "output_type": "stream",
     "text": [
      "Leaf assignments: 16405\n",
      "Tree size after growing: 11, leaf nodes: 6\n"
     ]
    },
    {
     "name": "stderr",
     "output_type": "stream",
     "text": [
      "Fit:   5%|▌         | 2504/50000 [03:08<19:57:16,  1.51s/it]"
     ]
    },
    {
     "name": "stdout",
     "output_type": "stream",
     "text": [
      "Leaf assignments: 18433\n",
      "Tree size after growing: 13, leaf nodes: 7\n"
     ]
    },
    {
     "name": "stderr",
     "output_type": "stream",
     "text": [
      "Fit:   6%|▌         | 3004/50000 [03:46<18:13:41,  1.40s/it]"
     ]
    },
    {
     "name": "stdout",
     "output_type": "stream",
     "text": [
      "Leaf assignments: 13267\n",
      "Tree size after growing: 15, leaf nodes: 8\n"
     ]
    },
    {
     "name": "stderr",
     "output_type": "stream",
     "text": [
      "Fit:   7%|▋         | 3504/50000 [04:25<18:11:12,  1.41s/it]"
     ]
    },
    {
     "name": "stdout",
     "output_type": "stream",
     "text": [
      "Leaf assignments: 9926\n",
      "Tree size after growing: 17, leaf nodes: 9\n"
     ]
    },
    {
     "name": "stderr",
     "output_type": "stream",
     "text": [
      "Fit:   8%|▊         | 4004/50000 [05:05<17:51:01,  1.40s/it]"
     ]
    },
    {
     "name": "stdout",
     "output_type": "stream",
     "text": [
      "Leaf assignments: 13499\n",
      "Tree size after growing: 19, leaf nodes: 10\n"
     ]
    },
    {
     "name": "stderr",
     "output_type": "stream",
     "text": [
      "Fit:   9%|▉         | 4504/50000 [05:44<17:37:05,  1.39s/it]"
     ]
    },
    {
     "name": "stdout",
     "output_type": "stream",
     "text": [
      "Leaf assignments: 5896\n",
      "Tree size after growing: 21, leaf nodes: 11\n"
     ]
    },
    {
     "name": "stderr",
     "output_type": "stream",
     "text": [
      "Fit:  10%|█         | 5004/50000 [06:24<18:07:59,  1.45s/it]"
     ]
    },
    {
     "name": "stdout",
     "output_type": "stream",
     "text": [
      "Leaf assignments: 7065\n",
      "Tree size after growing: 23, leaf nodes: 12\n"
     ]
    },
    {
     "name": "stderr",
     "output_type": "stream",
     "text": [
      "Fit:  11%|█         | 5504/50000 [07:04<16:58:41,  1.37s/it]"
     ]
    },
    {
     "name": "stdout",
     "output_type": "stream",
     "text": [
      "Leaf assignments: 6519\n",
      "Tree size after growing: 25, leaf nodes: 13\n"
     ]
    },
    {
     "name": "stderr",
     "output_type": "stream",
     "text": [
      "Fit:  12%|█▏        | 6004/50000 [07:44<17:32:29,  1.44s/it]"
     ]
    },
    {
     "name": "stdout",
     "output_type": "stream",
     "text": [
      "Leaf assignments: 7539\n",
      "Tree size after growing: 27, leaf nodes: 14\n"
     ]
    },
    {
     "name": "stderr",
     "output_type": "stream",
     "text": [
      "Fit:  13%|█▎        | 6504/50000 [08:26<17:16:07,  1.43s/it]"
     ]
    },
    {
     "name": "stdout",
     "output_type": "stream",
     "text": [
      "Leaf assignments: 7053\n",
      "Tree size after growing: 29, leaf nodes: 15\n"
     ]
    },
    {
     "name": "stderr",
     "output_type": "stream",
     "text": [
      "Fit:  14%|█▍        | 7004/50000 [09:06<16:33:41,  1.39s/it]"
     ]
    },
    {
     "name": "stdout",
     "output_type": "stream",
     "text": [
      "Leaf assignments: 6422\n",
      "Tree size after growing: 31, leaf nodes: 16\n"
     ]
    },
    {
     "name": "stderr",
     "output_type": "stream",
     "text": [
      "Fit:  15%|█▌        | 7503/50000 [09:49<18:50:07,  1.60s/it]"
     ]
    },
    {
     "name": "stdout",
     "output_type": "stream",
     "text": [
      "Leaf assignments: 5758\n",
      "Tree size after growing: 33, leaf nodes: 17\n"
     ]
    },
    {
     "name": "stderr",
     "output_type": "stream",
     "text": [
      "Fit:  16%|█▌        | 8003/50000 [10:32<17:19:42,  1.49s/it]"
     ]
    },
    {
     "name": "stdout",
     "output_type": "stream",
     "text": [
      "Leaf assignments: 5175\n",
      "Tree size after growing: 35, leaf nodes: 18\n"
     ]
    },
    {
     "name": "stderr",
     "output_type": "stream",
     "text": [
      "Fit:  17%|█▋        | 8503/50000 [11:17<22:20:12,  1.94s/it]"
     ]
    },
    {
     "name": "stdout",
     "output_type": "stream",
     "text": [
      "Leaf assignments: 6339\n",
      "Tree size after growing: 37, leaf nodes: 19\n"
     ]
    },
    {
     "name": "stderr",
     "output_type": "stream",
     "text": [
      "Fit:  18%|█▊        | 9004/50000 [12:00<15:03:09,  1.32s/it]"
     ]
    },
    {
     "name": "stdout",
     "output_type": "stream",
     "text": [
      "Leaf assignments: 9081\n",
      "Tree size after growing: 39, leaf nodes: 20\n"
     ]
    },
    {
     "name": "stderr",
     "output_type": "stream",
     "text": [
      "Fit:  19%|█▉        | 9500/50000 [12:25<52:59, 12.74it/s]   \n",
      "Predict: 100%|██████████| 274/274 [00:00<00:00, 361.76it/s]\n"
     ]
    },
    {
     "name": "stdout",
     "output_type": "stream",
     "text": [
      "finished DeepECT+AUG...\n",
      "fitting IDEC...\n"
     ]
    },
    {
     "name": "stderr",
     "output_type": "stream",
     "text": [
      "/home/loebbert/miniconda3/lib/python3.10/site-packages/sklearn/cluster/_kmeans.py:870: FutureWarning: The default value of `n_init` will change from 10 to 'auto' in 1.4. Set the value of `n_init` explicitly to suppress the warning\n",
      "  warnings.warn(\n"
     ]
    },
    {
     "name": "stdout",
     "output_type": "stream",
     "text": [
      "finished fitting IDEC\n",
      "fitting KMeans...\n",
      "finished fitting Kmeans\n"
     ]
    }
   ],
   "source": [
    "flat_mnist, hierarchical_mnist = evaluate(\n",
    "    init_autoencoder=FeedforwardAutoencoder, dataset_type=DatasetType.MNIST, seed=42\n",
    ")"
   ]
  },
  {
   "cell_type": "code",
   "execution_count": 4,
   "metadata": {},
   "outputs": [
    {
     "name": "stdout",
     "output_type": "stream",
     "text": [
      "Downloading https://www.csie.ntu.edu.tw/~cjlin/libsvmtools/datasets/multiclass/usps.bz2 to /home/loebbert/Downloads/clustpy_datafiles/usps.bz2\n"
     ]
    },
    {
     "name": "stderr",
     "output_type": "stream",
     "text": [
      "100%|██████████| 6579383/6579383 [00:05<00:00, 1105878.48it/s]\n"
     ]
    },
    {
     "name": "stdout",
     "output_type": "stream",
     "text": [
      "Downloading https://www.csie.ntu.edu.tw/~cjlin/libsvmtools/datasets/multiclass/usps.t.bz2 to /home/loebbert/Downloads/clustpy_datafiles/usps.t.bz2\n"
     ]
    },
    {
     "name": "stderr",
     "output_type": "stream",
     "text": [
      "100%|██████████| 1831726/1831726 [00:02<00:00, 832337.42it/s] \n"
     ]
    },
    {
     "name": "stdout",
     "output_type": "stream",
     "text": [
      "Autoencoder pretraining complete and saved.\n",
      "fitting idec hierarchical...\n"
     ]
    },
    {
     "ename": "IndexError",
     "evalue": "index 9298 is out of bounds for axis 0 with size 9298",
     "output_type": "error",
     "traceback": [
      "\u001b[0;31m---------------------------------------------------------------------------\u001b[0m",
      "\u001b[0;31mIndexError\u001b[0m                                Traceback (most recent call last)",
      "Cell \u001b[0;32mIn[4], line 1\u001b[0m\n\u001b[0;32m----> 1\u001b[0m flat_usps, hierarchical_usps \u001b[38;5;241m=\u001b[39m \u001b[43mevaluate\u001b[49m\u001b[43m(\u001b[49m\n\u001b[1;32m      2\u001b[0m \u001b[43m    \u001b[49m\u001b[43minit_autoencoder\u001b[49m\u001b[38;5;241;43m=\u001b[39;49m\u001b[43mFeedforwardAutoencoder\u001b[49m\u001b[43m,\u001b[49m\u001b[43m \u001b[49m\u001b[43mdataset_type\u001b[49m\u001b[38;5;241;43m=\u001b[39;49m\u001b[43mDatasetType\u001b[49m\u001b[38;5;241;43m.\u001b[39;49m\u001b[43mUSPS\u001b[49m\u001b[43m,\u001b[49m\u001b[43m \u001b[49m\u001b[43mseed\u001b[49m\u001b[38;5;241;43m=\u001b[39;49m\u001b[38;5;241;43m42\u001b[39;49m\n\u001b[1;32m      3\u001b[0m \u001b[43m)\u001b[49m\n",
      "File \u001b[0;32m~/projects/deepclustering/LMU_Master_Practical_SoSe24/practical/DeepClustering/DeepECT/evaluation_pipeline.py:513\u001b[0m, in \u001b[0;36mevaluate\u001b[0;34m(init_autoencoder, dataset_type, seed, autoencoder_params_path)\u001b[0m\n\u001b[1;32m    504\u001b[0m     autoencoder_params_path \u001b[38;5;241m=\u001b[39m \u001b[38;5;124mf\u001b[39m\u001b[38;5;124m\"\u001b[39m\u001b[38;5;124mpractical/DeepClustering/DeepECT/pretrained_autoencoders/\u001b[39m\u001b[38;5;132;01m{\u001b[39;00mdataset[\u001b[38;5;124m'\u001b[39m\u001b[38;5;124mdataset_name\u001b[39m\u001b[38;5;124m'\u001b[39m]\u001b[38;5;132;01m}\u001b[39;00m\u001b[38;5;124m_autoencoder_pretrained.pth\u001b[39m\u001b[38;5;124m\"\u001b[39m\n\u001b[1;32m    506\u001b[0m autoencoder \u001b[38;5;241m=\u001b[39m pretraining(\n\u001b[1;32m    507\u001b[0m     init_autoencoder\u001b[38;5;241m=\u001b[39minit_autoencoder,\n\u001b[1;32m    508\u001b[0m     autoencoder_params_path\u001b[38;5;241m=\u001b[39mautoencoder_params_path,\n\u001b[1;32m    509\u001b[0m     dataset\u001b[38;5;241m=\u001b[39mdataset,\n\u001b[1;32m    510\u001b[0m     seed\u001b[38;5;241m=\u001b[39mseed,\n\u001b[1;32m    511\u001b[0m )\n\u001b[0;32m--> 513\u001b[0m hierarchical_results \u001b[38;5;241m=\u001b[39m \u001b[43mhierarchical\u001b[49m\u001b[43m(\u001b[49m\n\u001b[1;32m    514\u001b[0m \u001b[43m    \u001b[49m\u001b[43mautoencoder\u001b[49m\u001b[38;5;241;43m=\u001b[39;49m\u001b[43mautoencoder\u001b[49m\u001b[43m,\u001b[49m\n\u001b[1;32m    515\u001b[0m \u001b[43m    \u001b[49m\u001b[43mautoencoder_params_path\u001b[49m\u001b[38;5;241;43m=\u001b[39;49m\u001b[43mautoencoder_params_path\u001b[49m\u001b[43m,\u001b[49m\n\u001b[1;32m    516\u001b[0m \u001b[43m    \u001b[49m\u001b[43mdataset_type\u001b[49m\u001b[38;5;241;43m=\u001b[39;49m\u001b[43mdataset_type\u001b[49m\u001b[43m,\u001b[49m\n\u001b[1;32m    517\u001b[0m \u001b[43m    \u001b[49m\u001b[43mdataset\u001b[49m\u001b[38;5;241;43m=\u001b[39;49m\u001b[43mdataset\u001b[49m\u001b[43m,\u001b[49m\n\u001b[1;32m    518\u001b[0m \u001b[43m    \u001b[49m\u001b[43mseed\u001b[49m\u001b[38;5;241;43m=\u001b[39;49m\u001b[43mseed\u001b[49m\u001b[43m,\u001b[49m\n\u001b[1;32m    519\u001b[0m \u001b[43m\u001b[49m\u001b[43m)\u001b[49m\n\u001b[1;32m    521\u001b[0m flat_results \u001b[38;5;241m=\u001b[39m flat(\n\u001b[1;32m    522\u001b[0m     autoencoder\u001b[38;5;241m=\u001b[39mautoencoder,\n\u001b[1;32m    523\u001b[0m     autoencoder_params_path\u001b[38;5;241m=\u001b[39mautoencoder_params_path,\n\u001b[0;32m   (...)\u001b[0m\n\u001b[1;32m    526\u001b[0m     seed\u001b[38;5;241m=\u001b[39mseed,\n\u001b[1;32m    527\u001b[0m )\n\u001b[1;32m    529\u001b[0m \u001b[38;5;28;01mreturn\u001b[39;00m flat_results, hierarchical_results\n",
      "File \u001b[0;32m~/projects/deepclustering/LMU_Master_Practical_SoSe24/practical/DeepClustering/DeepECT/evaluation_pipeline.py:355\u001b[0m, in \u001b[0;36mhierarchical\u001b[0;34m(autoencoder, autoencoder_params_path, dataset_type, dataset, seed)\u001b[0m\n\u001b[1;32m    348\u001b[0m autoencoder\u001b[38;5;241m.\u001b[39mto(device)\n\u001b[1;32m    349\u001b[0m \u001b[38;5;28mprint\u001b[39m(\u001b[38;5;124m\"\u001b[39m\u001b[38;5;124mfitting idec hierarchical...\u001b[39m\u001b[38;5;124m\"\u001b[39m)\n\u001b[1;32m    350\u001b[0m (\n\u001b[1;32m    351\u001b[0m     dp_value_single,\n\u001b[1;32m    352\u001b[0m     dp_value_complete,\n\u001b[1;32m    353\u001b[0m     leaf_purity_value_single,\n\u001b[1;32m    354\u001b[0m     leaf_purity_value_complete,\n\u001b[0;32m--> 355\u001b[0m ) \u001b[38;5;241m=\u001b[39m \u001b[43midec_hierarchical\u001b[49m\u001b[38;5;241;43m.\u001b[39;49m\u001b[43mrun_experiment\u001b[49m\u001b[43m(\u001b[49m\n\u001b[1;32m    356\u001b[0m \u001b[43m    \u001b[49m\u001b[43mdata\u001b[49m\u001b[43m,\u001b[49m\u001b[43m \u001b[49m\u001b[43mlabels\u001b[49m\u001b[43m,\u001b[49m\u001b[43m \u001b[49m\u001b[43mseed\u001b[49m\u001b[43m,\u001b[49m\u001b[43m \u001b[49m\u001b[43mn_clusters\u001b[49m\u001b[43m,\u001b[49m\u001b[43m \u001b[49m\u001b[43mautoencoder\u001b[49m\u001b[43m,\u001b[49m\u001b[43m \u001b[49m\u001b[43mdevice\u001b[49m\u001b[38;5;241;43m=\u001b[39;49m\u001b[43mdevice\u001b[49m\n\u001b[1;32m    357\u001b[0m \u001b[43m\u001b[49m\u001b[43m)\u001b[49m\n\u001b[1;32m    358\u001b[0m \u001b[38;5;28mprint\u001b[39m(\u001b[38;5;124m\"\u001b[39m\u001b[38;5;124mfinished idec hierarchical...\u001b[39m\u001b[38;5;124m\"\u001b[39m)\n\u001b[1;32m    359\u001b[0m results\u001b[38;5;241m.\u001b[39mappend(\n\u001b[1;32m    360\u001b[0m     {\n\u001b[1;32m    361\u001b[0m         \u001b[38;5;124m\"\u001b[39m\u001b[38;5;124mdataset\u001b[39m\u001b[38;5;124m\"\u001b[39m: dataset_type\u001b[38;5;241m.\u001b[39mvalue,\n\u001b[0;32m   (...)\u001b[0m\n\u001b[1;32m    366\u001b[0m     }\n\u001b[1;32m    367\u001b[0m )\n",
      "File \u001b[0;32m~/projects/deepclustering/LMU_Master_Practical_SoSe24/practical/DeepClustering/DeepECT/baseline_hierachical/methods/idec_hierarchical.py:23\u001b[0m, in \u001b[0;36mrun_experiment\u001b[0;34m(data, ground_truth_labels, new_seed, n_clusters, autoencoder, device)\u001b[0m\n\u001b[1;32m     19\u001b[0m \u001b[38;5;28;01mdef\u001b[39;00m \u001b[38;5;21mrun_experiment\u001b[39m(\n\u001b[1;32m     20\u001b[0m     data, ground_truth_labels, new_seed, n_clusters, autoencoder, device\u001b[38;5;241m=\u001b[39m\u001b[38;5;124m\"\u001b[39m\u001b[38;5;124mcpu\u001b[39m\u001b[38;5;124m\"\u001b[39m\n\u001b[1;32m     21\u001b[0m ):\n\u001b[1;32m     22\u001b[0m     pt_data \u001b[38;5;241m=\u001b[39m torch\u001b[38;5;241m.\u001b[39mfrom_numpy(data)\u001b[38;5;241m.\u001b[39mto(device)\n\u001b[0;32m---> 23\u001b[0m     pt_init_sample \u001b[38;5;241m=\u001b[39m torch\u001b[38;5;241m.\u001b[39mfrom_numpy(\u001b[43mdata\u001b[49m\u001b[43m[\u001b[49m\u001b[38;5;28;43mrange\u001b[39;49m\u001b[43m(\u001b[49m\u001b[38;5;241;43m0\u001b[39;49m\u001b[43m,\u001b[49m\u001b[43m \u001b[49m\u001b[38;5;241;43m70000\u001b[39;49m\u001b[43m)\u001b[49m\u001b[43m,\u001b[49m\u001b[43m \u001b[49m\u001b[43m:\u001b[49m\u001b[43m]\u001b[49m)\n\u001b[1;32m     25\u001b[0m     set_random_seed(new_seed)\n\u001b[1;32m     26\u001b[0m     train \u001b[38;5;241m=\u001b[39m torch\u001b[38;5;241m.\u001b[39mutils\u001b[38;5;241m.\u001b[39mdata\u001b[38;5;241m.\u001b[39mTensorDataset(pt_data)\n",
      "\u001b[0;31mIndexError\u001b[0m: index 9298 is out of bounds for axis 0 with size 9298"
     ]
    }
   ],
   "source": [
    "flat_usps, hierarchical_usps = evaluate(\n",
    "    init_autoencoder=FeedforwardAutoencoder, dataset_type=DatasetType.USPS, seed=42\n",
    ")"
   ]
  },
  {
   "cell_type": "code",
   "execution_count": null,
   "metadata": {},
   "outputs": [],
   "source": [
    "flat_fashion, hierarchical_fashion = evaluate(\n",
    "    init_autoencoder=FeedforwardAutoencoder, dataset_type=DatasetType.FASHION_MNIST, seed=42\n",
    ")"
   ]
  },
  {
   "cell_type": "code",
   "execution_count": null,
   "metadata": {},
   "outputs": [],
   "source": [
    "flat_reuters, hierarchical_reuters = evaluate(\n",
    "    init_autoencoder=FeedforwardAutoencoder, dataset_type=DatasetType.REUTERS, seed=42\n",
    ")"
   ]
  },
  {
   "cell_type": "markdown",
   "metadata": {},
   "source": [
    "## Flat Clustering"
   ]
  },
  {
   "cell_type": "code",
   "execution_count": 6,
   "metadata": {},
   "outputs": [
    {
     "data": {
      "text/html": [
       "<style type=\"text/css\">\n",
       "#T_54f82 thead th {\n",
       "  background-color: #f7f7f9;\n",
       "  color: #333;\n",
       "  border: 1px solid #ddd;\n",
       "}\n",
       "#T_54f82 tbody tr:nth-child(even) {\n",
       "  background-color: #f9f9f9;\n",
       "  color: #333;\n",
       "}\n",
       "#T_54f82 tbody tr:nth-child(odd) {\n",
       "  background-color: #fff;\n",
       "  color: #333;\n",
       "}\n",
       "</style>\n",
       "<table id=\"T_54f82\">\n",
       "  <caption>Results Table</caption>\n",
       "  <thead>\n",
       "    <tr>\n",
       "      <th class=\"blank level0\" >&nbsp;</th>\n",
       "      <th id=\"T_54f82_level0_col0\" class=\"col_heading level0 col0\" >nmi</th>\n",
       "      <th id=\"T_54f82_level0_col1\" class=\"col_heading level0 col1\" >acc</th>\n",
       "      <th id=\"T_54f82_level0_col2\" class=\"col_heading level0 col2\" >ari</th>\n",
       "      <th id=\"T_54f82_level0_col3\" class=\"col_heading level0 col3\" >nmi</th>\n",
       "      <th id=\"T_54f82_level0_col4\" class=\"col_heading level0 col4\" >acc</th>\n",
       "      <th id=\"T_54f82_level0_col5\" class=\"col_heading level0 col5\" >ari</th>\n",
       "      <th id=\"T_54f82_level0_col6\" class=\"col_heading level0 col6\" >nmi</th>\n",
       "      <th id=\"T_54f82_level0_col7\" class=\"col_heading level0 col7\" >acc</th>\n",
       "      <th id=\"T_54f82_level0_col8\" class=\"col_heading level0 col8\" >ari</th>\n",
       "      <th id=\"T_54f82_level0_col9\" class=\"col_heading level0 col9\" >nmi</th>\n",
       "      <th id=\"T_54f82_level0_col10\" class=\"col_heading level0 col10\" >acc</th>\n",
       "      <th id=\"T_54f82_level0_col11\" class=\"col_heading level0 col11\" >ari</th>\n",
       "    </tr>\n",
       "    <tr>\n",
       "      <th class=\"index_name level1\" >dataset</th>\n",
       "      <th id=\"T_54f82_level1_col0\" class=\"col_heading level1 col0\" >MNIST</th>\n",
       "      <th id=\"T_54f82_level1_col1\" class=\"col_heading level1 col1\" >MNIST</th>\n",
       "      <th id=\"T_54f82_level1_col2\" class=\"col_heading level1 col2\" >MNIST</th>\n",
       "      <th id=\"T_54f82_level1_col3\" class=\"col_heading level1 col3\" >USPS</th>\n",
       "      <th id=\"T_54f82_level1_col4\" class=\"col_heading level1 col4\" >USPS</th>\n",
       "      <th id=\"T_54f82_level1_col5\" class=\"col_heading level1 col5\" >USPS</th>\n",
       "      <th id=\"T_54f82_level1_col6\" class=\"col_heading level1 col6\" >Fashion MNIST</th>\n",
       "      <th id=\"T_54f82_level1_col7\" class=\"col_heading level1 col7\" >Fashion MNIST</th>\n",
       "      <th id=\"T_54f82_level1_col8\" class=\"col_heading level1 col8\" >Fashion MNIST</th>\n",
       "      <th id=\"T_54f82_level1_col9\" class=\"col_heading level1 col9\" >Reuters</th>\n",
       "      <th id=\"T_54f82_level1_col10\" class=\"col_heading level1 col10\" >Reuters</th>\n",
       "      <th id=\"T_54f82_level1_col11\" class=\"col_heading level1 col11\" >Reuters</th>\n",
       "    </tr>\n",
       "    <tr>\n",
       "      <th class=\"index_name level0\" >method</th>\n",
       "      <th class=\"blank col0\" >&nbsp;</th>\n",
       "      <th class=\"blank col1\" >&nbsp;</th>\n",
       "      <th class=\"blank col2\" >&nbsp;</th>\n",
       "      <th class=\"blank col3\" >&nbsp;</th>\n",
       "      <th class=\"blank col4\" >&nbsp;</th>\n",
       "      <th class=\"blank col5\" >&nbsp;</th>\n",
       "      <th class=\"blank col6\" >&nbsp;</th>\n",
       "      <th class=\"blank col7\" >&nbsp;</th>\n",
       "      <th class=\"blank col8\" >&nbsp;</th>\n",
       "      <th class=\"blank col9\" >&nbsp;</th>\n",
       "      <th class=\"blank col10\" >&nbsp;</th>\n",
       "      <th class=\"blank col11\" >&nbsp;</th>\n",
       "    </tr>\n",
       "  </thead>\n",
       "  <tbody>\n",
       "    <tr>\n",
       "      <th id=\"T_54f82_level0_row0\" class=\"row_heading level0 row0\" >DeepECT</th>\n",
       "      <td id=\"T_54f82_row0_col0\" class=\"data row0 col0\" >0.805630</td>\n",
       "      <td id=\"T_54f82_row0_col1\" class=\"data row0 col1\" >0.846843</td>\n",
       "      <td id=\"T_54f82_row0_col2\" class=\"data row0 col2\" >0.767097</td>\n",
       "      <td id=\"T_54f82_row0_col3\" class=\"data row0 col3\" >nan</td>\n",
       "      <td id=\"T_54f82_row0_col4\" class=\"data row0 col4\" >nan</td>\n",
       "      <td id=\"T_54f82_row0_col5\" class=\"data row0 col5\" >nan</td>\n",
       "      <td id=\"T_54f82_row0_col6\" class=\"data row0 col6\" >nan</td>\n",
       "      <td id=\"T_54f82_row0_col7\" class=\"data row0 col7\" >nan</td>\n",
       "      <td id=\"T_54f82_row0_col8\" class=\"data row0 col8\" >nan</td>\n",
       "      <td id=\"T_54f82_row0_col9\" class=\"data row0 col9\" >nan</td>\n",
       "      <td id=\"T_54f82_row0_col10\" class=\"data row0 col10\" >nan</td>\n",
       "      <td id=\"T_54f82_row0_col11\" class=\"data row0 col11\" >nan</td>\n",
       "    </tr>\n",
       "    <tr>\n",
       "      <th id=\"T_54f82_level0_row1\" class=\"row_heading level0 row1\" >DeepECT + Augmentation</th>\n",
       "      <td id=\"T_54f82_row1_col0\" class=\"data row1 col0\" >0.813016</td>\n",
       "      <td id=\"T_54f82_row1_col1\" class=\"data row1 col1\" >0.855800</td>\n",
       "      <td id=\"T_54f82_row1_col2\" class=\"data row1 col2\" >0.774113</td>\n",
       "      <td id=\"T_54f82_row1_col3\" class=\"data row1 col3\" >nan</td>\n",
       "      <td id=\"T_54f82_row1_col4\" class=\"data row1 col4\" >nan</td>\n",
       "      <td id=\"T_54f82_row1_col5\" class=\"data row1 col5\" >nan</td>\n",
       "      <td id=\"T_54f82_row1_col6\" class=\"data row1 col6\" >nan</td>\n",
       "      <td id=\"T_54f82_row1_col7\" class=\"data row1 col7\" >nan</td>\n",
       "      <td id=\"T_54f82_row1_col8\" class=\"data row1 col8\" >nan</td>\n",
       "      <td id=\"T_54f82_row1_col9\" class=\"data row1 col9\" >nan</td>\n",
       "      <td id=\"T_54f82_row1_col10\" class=\"data row1 col10\" >nan</td>\n",
       "      <td id=\"T_54f82_row1_col11\" class=\"data row1 col11\" >nan</td>\n",
       "    </tr>\n",
       "    <tr>\n",
       "      <th id=\"T_54f82_level0_row2\" class=\"row_heading level0 row2\" >IDEC</th>\n",
       "      <td id=\"T_54f82_row2_col0\" class=\"data row2 col0\" >0.769375</td>\n",
       "      <td id=\"T_54f82_row2_col1\" class=\"data row2 col1\" >0.830200</td>\n",
       "      <td id=\"T_54f82_row2_col2\" class=\"data row2 col2\" >0.719013</td>\n",
       "      <td id=\"T_54f82_row2_col3\" class=\"data row2 col3\" >nan</td>\n",
       "      <td id=\"T_54f82_row2_col4\" class=\"data row2 col4\" >nan</td>\n",
       "      <td id=\"T_54f82_row2_col5\" class=\"data row2 col5\" >nan</td>\n",
       "      <td id=\"T_54f82_row2_col6\" class=\"data row2 col6\" >nan</td>\n",
       "      <td id=\"T_54f82_row2_col7\" class=\"data row2 col7\" >nan</td>\n",
       "      <td id=\"T_54f82_row2_col8\" class=\"data row2 col8\" >nan</td>\n",
       "      <td id=\"T_54f82_row2_col9\" class=\"data row2 col9\" >nan</td>\n",
       "      <td id=\"T_54f82_row2_col10\" class=\"data row2 col10\" >nan</td>\n",
       "      <td id=\"T_54f82_row2_col11\" class=\"data row2 col11\" >nan</td>\n",
       "    </tr>\n",
       "    <tr>\n",
       "      <th id=\"T_54f82_level0_row3\" class=\"row_heading level0 row3\" >KMeans</th>\n",
       "      <td id=\"T_54f82_row3_col0\" class=\"data row3 col0\" >0.765375</td>\n",
       "      <td id=\"T_54f82_row3_col1\" class=\"data row3 col1\" >0.827957</td>\n",
       "      <td id=\"T_54f82_row3_col2\" class=\"data row3 col2\" >0.714324</td>\n",
       "      <td id=\"T_54f82_row3_col3\" class=\"data row3 col3\" >nan</td>\n",
       "      <td id=\"T_54f82_row3_col4\" class=\"data row3 col4\" >nan</td>\n",
       "      <td id=\"T_54f82_row3_col5\" class=\"data row3 col5\" >nan</td>\n",
       "      <td id=\"T_54f82_row3_col6\" class=\"data row3 col6\" >nan</td>\n",
       "      <td id=\"T_54f82_row3_col7\" class=\"data row3 col7\" >nan</td>\n",
       "      <td id=\"T_54f82_row3_col8\" class=\"data row3 col8\" >nan</td>\n",
       "      <td id=\"T_54f82_row3_col9\" class=\"data row3 col9\" >nan</td>\n",
       "      <td id=\"T_54f82_row3_col10\" class=\"data row3 col10\" >nan</td>\n",
       "      <td id=\"T_54f82_row3_col11\" class=\"data row3 col11\" >nan</td>\n",
       "    </tr>\n",
       "  </tbody>\n",
       "</table>\n"
      ],
      "text/plain": [
       "<pandas.io.formats.style.Styler at 0x7f3be8107c10>"
      ]
     },
     "execution_count": 6,
     "metadata": {},
     "output_type": "execute_result"
    }
   ],
   "source": [
    "flat_combined_df = pd.concat([flat_mnist], ignore_index=True)\n",
    "# Pivot the DataFrame to match the desired format\n",
    "pivot_df = flat_combined_df.pivot(index='method', columns='dataset', values=['nmi', 'acc', 'ari'])\n",
    "\n",
    "# Reorder the columns to match the order in the image\n",
    "pivot_df = pivot_df.reindex(columns=[('nmi', DatasetType.MNIST.value), ('acc', DatasetType.MNIST.value), ('ari', DatasetType.MNIST.value),\n",
    "                                     ('nmi', DatasetType.USPS.value), ('acc', DatasetType.USPS.value), ('ari', DatasetType.USPS.value),\n",
    "                                     ('nmi', DatasetType.FASHION_MNIST.value), ('acc', DatasetType.FASHION_MNIST.value), ('ari', DatasetType.FASHION_MNIST.value),\n",
    "                                     ('nmi', DatasetType.REUTERS.value), ('acc', DatasetType.REUTERS.value), ('ari', DatasetType.REUTERS.value)])\n",
    "\n",
    "\n",
    "# For Jupyter Notebook display with better formatting\n",
    "pivot_df.style.set_table_styles([\n",
    "    {'selector': 'thead th', 'props': [('background-color', '#f7f7f9'), \n",
    "                                       ('color', '#333'), \n",
    "                                       ('border', '1px solid #ddd')]},\n",
    "    {'selector': 'tbody tr:nth-child(even)', 'props': [('background-color', '#f9f9f9'), ('color', '#333')]},\n",
    "    {'selector': 'tbody tr:nth-child(odd)', 'props': [('background-color', '#fff'), ('color', '#333') ]}\n",
    "]).set_caption(\"Results Table\")"
   ]
  },
  {
   "cell_type": "markdown",
   "metadata": {},
   "source": [
    "## Hierarchical Clustering"
   ]
  },
  {
   "cell_type": "code",
   "execution_count": 7,
   "metadata": {},
   "outputs": [
    {
     "data": {
      "text/html": [
       "<style type=\"text/css\">\n",
       "#T_0a217 thead th {\n",
       "  background-color: #f7f7f9;\n",
       "  color: #333;\n",
       "  border: 1px solid #ddd;\n",
       "}\n",
       "#T_0a217 tbody tr:nth-child(even) {\n",
       "  background-color: #f9f9f9;\n",
       "  color: #333;\n",
       "}\n",
       "#T_0a217 tbody tr:nth-child(odd) {\n",
       "  background-color: #fff;\n",
       "  color: #333;\n",
       "}\n",
       "</style>\n",
       "<table id=\"T_0a217\">\n",
       "  <caption>Results Table</caption>\n",
       "  <thead>\n",
       "    <tr>\n",
       "      <th class=\"blank level0\" >&nbsp;</th>\n",
       "      <th id=\"T_0a217_level0_col0\" class=\"col_heading level0 col0\" >dp</th>\n",
       "      <th id=\"T_0a217_level0_col1\" class=\"col_heading level0 col1\" >lp</th>\n",
       "      <th id=\"T_0a217_level0_col2\" class=\"col_heading level0 col2\" >dp</th>\n",
       "      <th id=\"T_0a217_level0_col3\" class=\"col_heading level0 col3\" >lp</th>\n",
       "      <th id=\"T_0a217_level0_col4\" class=\"col_heading level0 col4\" >dp</th>\n",
       "      <th id=\"T_0a217_level0_col5\" class=\"col_heading level0 col5\" >lp</th>\n",
       "      <th id=\"T_0a217_level0_col6\" class=\"col_heading level0 col6\" >dp</th>\n",
       "      <th id=\"T_0a217_level0_col7\" class=\"col_heading level0 col7\" >lp</th>\n",
       "    </tr>\n",
       "    <tr>\n",
       "      <th class=\"index_name level1\" >dataset</th>\n",
       "      <th id=\"T_0a217_level1_col0\" class=\"col_heading level1 col0\" >MNIST</th>\n",
       "      <th id=\"T_0a217_level1_col1\" class=\"col_heading level1 col1\" >MNIST</th>\n",
       "      <th id=\"T_0a217_level1_col2\" class=\"col_heading level1 col2\" >USPS</th>\n",
       "      <th id=\"T_0a217_level1_col3\" class=\"col_heading level1 col3\" >USPS</th>\n",
       "      <th id=\"T_0a217_level1_col4\" class=\"col_heading level1 col4\" >Fashion MNIST</th>\n",
       "      <th id=\"T_0a217_level1_col5\" class=\"col_heading level1 col5\" >Fashion MNIST</th>\n",
       "      <th id=\"T_0a217_level1_col6\" class=\"col_heading level1 col6\" >Reuters</th>\n",
       "      <th id=\"T_0a217_level1_col7\" class=\"col_heading level1 col7\" >Reuters</th>\n",
       "    </tr>\n",
       "    <tr>\n",
       "      <th class=\"index_name level0\" >method</th>\n",
       "      <th class=\"blank col0\" >&nbsp;</th>\n",
       "      <th class=\"blank col1\" >&nbsp;</th>\n",
       "      <th class=\"blank col2\" >&nbsp;</th>\n",
       "      <th class=\"blank col3\" >&nbsp;</th>\n",
       "      <th class=\"blank col4\" >&nbsp;</th>\n",
       "      <th class=\"blank col5\" >&nbsp;</th>\n",
       "      <th class=\"blank col6\" >&nbsp;</th>\n",
       "      <th class=\"blank col7\" >&nbsp;</th>\n",
       "    </tr>\n",
       "  </thead>\n",
       "  <tbody>\n",
       "    <tr>\n",
       "      <th id=\"T_0a217_level0_row0\" class=\"row_heading level0 row0\" >HierarchicalClusteringMethod.IDEC_COMPLETE</th>\n",
       "      <td id=\"T_0a217_row0_col0\" class=\"data row0 col0\" >0.100595</td>\n",
       "      <td id=\"T_0a217_row0_col1\" class=\"data row0 col1\" >0.112529</td>\n",
       "      <td id=\"T_0a217_row0_col2\" class=\"data row0 col2\" >nan</td>\n",
       "      <td id=\"T_0a217_row0_col3\" class=\"data row0 col3\" >nan</td>\n",
       "      <td id=\"T_0a217_row0_col4\" class=\"data row0 col4\" >nan</td>\n",
       "      <td id=\"T_0a217_row0_col5\" class=\"data row0 col5\" >nan</td>\n",
       "      <td id=\"T_0a217_row0_col6\" class=\"data row0 col6\" >nan</td>\n",
       "      <td id=\"T_0a217_row0_col7\" class=\"data row0 col7\" >nan</td>\n",
       "    </tr>\n",
       "    <tr>\n",
       "      <th id=\"T_0a217_level0_row1\" class=\"row_heading level0 row1\" >HierarchicalClusteringMethod.IDEC_SINGLE</th>\n",
       "      <td id=\"T_0a217_row1_col0\" class=\"data row1 col0\" >0.100595</td>\n",
       "      <td id=\"T_0a217_row1_col1\" class=\"data row1 col1\" >0.112529</td>\n",
       "      <td id=\"T_0a217_row1_col2\" class=\"data row1 col2\" >nan</td>\n",
       "      <td id=\"T_0a217_row1_col3\" class=\"data row1 col3\" >nan</td>\n",
       "      <td id=\"T_0a217_row1_col4\" class=\"data row1 col4\" >nan</td>\n",
       "      <td id=\"T_0a217_row1_col5\" class=\"data row1 col5\" >nan</td>\n",
       "      <td id=\"T_0a217_row1_col6\" class=\"data row1 col6\" >nan</td>\n",
       "      <td id=\"T_0a217_row1_col7\" class=\"data row1 col7\" >nan</td>\n",
       "    </tr>\n",
       "    <tr>\n",
       "      <th id=\"T_0a217_level0_row2\" class=\"row_heading level0 row2\" >Autoencoder + Bisection</th>\n",
       "      <td id=\"T_0a217_row2_col0\" class=\"data row2 col0\" >0.348408</td>\n",
       "      <td id=\"T_0a217_row2_col1\" class=\"data row2 col1\" >0.616529</td>\n",
       "      <td id=\"T_0a217_row2_col2\" class=\"data row2 col2\" >nan</td>\n",
       "      <td id=\"T_0a217_row2_col3\" class=\"data row2 col3\" >nan</td>\n",
       "      <td id=\"T_0a217_row2_col4\" class=\"data row2 col4\" >nan</td>\n",
       "      <td id=\"T_0a217_row2_col5\" class=\"data row2 col5\" >nan</td>\n",
       "      <td id=\"T_0a217_row2_col6\" class=\"data row2 col6\" >nan</td>\n",
       "      <td id=\"T_0a217_row2_col7\" class=\"data row2 col7\" >nan</td>\n",
       "    </tr>\n",
       "  </tbody>\n",
       "</table>\n"
      ],
      "text/plain": [
       "<pandas.io.formats.style.Styler at 0x7f3be8107e80>"
      ]
     },
     "execution_count": 7,
     "metadata": {},
     "output_type": "execute_result"
    }
   ],
   "source": [
    "hierarchical_combined = pd.concat([hierarchical_mnist], ignore_index=True)\n",
    "# Pivot the DataFrame to match the desired format\n",
    "pivot_df = hierarchical_combined.pivot(index='method', columns='dataset', values=['dp', 'lp'])\n",
    "\n",
    "# Reorder the columns to match the order in the image\n",
    "pivot_df = pivot_df.reindex(columns=[('dp', DatasetType.MNIST.value), ('lp', DatasetType.MNIST.value), \n",
    "                                     ('dp', DatasetType.USPS.value), ('lp', DatasetType.USPS.value),\n",
    "                                     ('dp', DatasetType.FASHION_MNIST.value), ('lp', DatasetType.FASHION_MNIST.value),\n",
    "                                     ('dp', DatasetType.REUTERS.value), ('lp', DatasetType.REUTERS.value)])\n",
    "\n",
    "\n",
    "# For Jupyter Notebook display with better formatting\n",
    "pivot_df.style.set_table_styles([\n",
    "    {'selector': 'thead th', 'props': [('background-color', '#f7f7f9'), \n",
    "                                       ('color', '#333'), \n",
    "                                       ('border', '1px solid #ddd')]},\n",
    "    {'selector': 'tbody tr:nth-child(even)', 'props': [('background-color', '#f9f9f9'), ('color', '#333')]},\n",
    "    {'selector': 'tbody tr:nth-child(odd)', 'props': [('background-color', '#fff'), ('color', '#333') ]}\n",
    "]).set_caption(\"Results Table\")"
   ]
  }
 ],
 "metadata": {
  "kernelspec": {
   "display_name": "base",
   "language": "python",
   "name": "python3"
  },
  "language_info": {
   "codemirror_mode": {
    "name": "ipython",
    "version": 3
   },
   "file_extension": ".py",
   "mimetype": "text/x-python",
   "name": "python",
   "nbconvert_exporter": "python",
   "pygments_lexer": "ipython3",
   "version": "3.10.9"
  }
 },
 "nbformat": 4,
 "nbformat_minor": 2
}
