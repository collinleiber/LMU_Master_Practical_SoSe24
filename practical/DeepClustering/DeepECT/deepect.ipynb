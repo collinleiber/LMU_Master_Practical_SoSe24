{
 "cells": [
  {
   "cell_type": "markdown",
   "metadata": {},
   "source": [
    "# Evaluation"
   ]
  },
  {
   "cell_type": "code",
   "execution_count": 1,
   "metadata": {},
   "outputs": [
    {
     "name": "stdout",
     "output_type": "stream",
     "text": [
      "/home/loebbert/projects/deepclustering/LMU_Master_Practical_SoSe24\n",
      "/home/loebbert/projects/deepclustering/LMU_Master_Practical_SoSe24\n"
     ]
    }
   ],
   "source": [
    "import sys\n",
    "import os\n",
    "\n",
    "repo_path = os.path.sep.join(os.getcwd().split(os.path.sep)[:-3])\n",
    "print(repo_path)\n",
    "sys.path.append(repo_path)\n",
    "%cd ../../.."
   ]
  },
  {
   "cell_type": "code",
   "execution_count": 2,
   "metadata": {},
   "outputs": [
    {
     "name": "stdout",
     "output_type": "stream",
     "text": [
      "[WARNING] Could not import cv2 in clustpy.data.real_video_data. Please install cv2 by 'pip install opencv-python' if necessary\n"
     ]
    }
   ],
   "source": [
    "import pandas as pd\n",
    "from clustpy.deep.autoencoders import FeedforwardAutoencoder\n",
    "from practical.DeepClustering.DeepECT.evaluation_pipeline import DatasetType, evaluate"
   ]
  },
  {
   "cell_type": "code",
   "execution_count": 3,
   "metadata": {},
   "outputs": [
    {
     "name": "stdout",
     "output_type": "stream",
     "text": [
      "Autoencoder parameters loaded from file.\n",
      "fitting DeepECT...\n",
      "cuda\n"
     ]
    },
    {
     "name": "stderr",
     "output_type": "stream",
     "text": [
      "Fit:   1%|          | 533/50000 [00:02<08:38, 95.36it/s] "
     ]
    },
    {
     "name": "stdout",
     "output_type": "stream",
     "text": [
      "Leaf assignments: 48734\n",
      "Tree size after growing: 5, leaf nodes: 3\n"
     ]
    },
    {
     "name": "stderr",
     "output_type": "stream",
     "text": [
      "Fit:   2%|▏         | 1047/50000 [00:05<09:58, 81.76it/s]"
     ]
    },
    {
     "name": "stdout",
     "output_type": "stream",
     "text": [
      "Leaf assignments: 30888\n",
      "Tree size after growing: 7, leaf nodes: 4\n"
     ]
    },
    {
     "name": "stderr",
     "output_type": "stream",
     "text": [
      "Fit:   3%|▎         | 1532/50000 [00:09<11:01, 73.27it/s] "
     ]
    },
    {
     "name": "stdout",
     "output_type": "stream",
     "text": [
      "Leaf assignments: 20640\n",
      "Tree size after growing: 9, leaf nodes: 5\n"
     ]
    },
    {
     "name": "stderr",
     "output_type": "stream",
     "text": [
      "Fit:   4%|▍         | 2032/50000 [00:12<11:11, 71.39it/s] "
     ]
    },
    {
     "name": "stdout",
     "output_type": "stream",
     "text": [
      "Leaf assignments: 15750\n",
      "Tree size after growing: 11, leaf nodes: 6\n"
     ]
    },
    {
     "name": "stderr",
     "output_type": "stream",
     "text": [
      "Fit:   5%|▌         | 2526/50000 [00:16<12:32, 63.13it/s] "
     ]
    },
    {
     "name": "stdout",
     "output_type": "stream",
     "text": [
      "Leaf assignments: 18286\n",
      "Tree size after growing: 13, leaf nodes: 7\n"
     ]
    },
    {
     "name": "stderr",
     "output_type": "stream",
     "text": [
      "Fit:   6%|▌         | 3016/50000 [00:19<14:29, 54.04it/s] "
     ]
    },
    {
     "name": "stdout",
     "output_type": "stream",
     "text": [
      "Leaf assignments: 12917\n",
      "Tree size after growing: 15, leaf nodes: 8\n"
     ]
    },
    {
     "name": "stderr",
     "output_type": "stream",
     "text": [
      "Fit:   7%|▋         | 3517/50000 [00:24<15:47, 49.06it/s] "
     ]
    },
    {
     "name": "stdout",
     "output_type": "stream",
     "text": [
      "Leaf assignments: 9868\n",
      "Tree size after growing: 17, leaf nodes: 9\n"
     ]
    },
    {
     "name": "stderr",
     "output_type": "stream",
     "text": [
      "Fit:   8%|▊         | 4022/50000 [00:29<17:41, 43.30it/s] "
     ]
    },
    {
     "name": "stdout",
     "output_type": "stream",
     "text": [
      "Leaf assignments: 12701\n",
      "Tree size after growing: 19, leaf nodes: 10\n"
     ]
    },
    {
     "name": "stderr",
     "output_type": "stream",
     "text": [
      "Fit:   9%|▉         | 4513/50000 [00:34<22:01, 34.42it/s] "
     ]
    },
    {
     "name": "stdout",
     "output_type": "stream",
     "text": [
      "Leaf assignments: 5862\n",
      "Tree size after growing: 21, leaf nodes: 11\n"
     ]
    },
    {
     "name": "stderr",
     "output_type": "stream",
     "text": [
      "Fit:  10%|█         | 5013/50000 [00:39<23:55, 31.35it/s] "
     ]
    },
    {
     "name": "stdout",
     "output_type": "stream",
     "text": [
      "Leaf assignments: 6453\n",
      "Tree size after growing: 23, leaf nodes: 12\n"
     ]
    },
    {
     "name": "stderr",
     "output_type": "stream",
     "text": [
      "Fit:  11%|█         | 5519/50000 [00:45<23:32, 31.49it/s] "
     ]
    },
    {
     "name": "stdout",
     "output_type": "stream",
     "text": [
      "Leaf assignments: 7403\n",
      "Tree size after growing: 25, leaf nodes: 13\n"
     ]
    },
    {
     "name": "stderr",
     "output_type": "stream",
     "text": [
      "Fit:  12%|█▏        | 6013/50000 [00:51<22:33, 32.50it/s] "
     ]
    },
    {
     "name": "stdout",
     "output_type": "stream",
     "text": [
      "Leaf assignments: 7023\n",
      "Tree size after growing: 27, leaf nodes: 14\n"
     ]
    },
    {
     "name": "stderr",
     "output_type": "stream",
     "text": [
      "Fit:  13%|█▎        | 6518/50000 [00:57<23:03, 31.42it/s] "
     ]
    },
    {
     "name": "stdout",
     "output_type": "stream",
     "text": [
      "Leaf assignments: 6430\n",
      "Tree size after growing: 29, leaf nodes: 15\n"
     ]
    },
    {
     "name": "stderr",
     "output_type": "stream",
     "text": [
      "Fit:  14%|█▍        | 7009/50000 [01:03<34:34, 20.72it/s]"
     ]
    },
    {
     "name": "stdout",
     "output_type": "stream",
     "text": [
      "Leaf assignments: 6694\n",
      "Tree size after growing: 31, leaf nodes: 16\n"
     ]
    },
    {
     "name": "stderr",
     "output_type": "stream",
     "text": [
      "Fit:  15%|█▌        | 7515/50000 [01:10<28:55, 24.49it/s]"
     ]
    },
    {
     "name": "stdout",
     "output_type": "stream",
     "text": [
      "Leaf assignments: 5635\n",
      "Tree size after growing: 33, leaf nodes: 17\n"
     ]
    },
    {
     "name": "stderr",
     "output_type": "stream",
     "text": [
      "Fit:  16%|█▌        | 8012/50000 [01:17<29:10, 23.98it/s]"
     ]
    },
    {
     "name": "stdout",
     "output_type": "stream",
     "text": [
      "Leaf assignments: 5085\n",
      "Tree size after growing: 35, leaf nodes: 18\n"
     ]
    },
    {
     "name": "stderr",
     "output_type": "stream",
     "text": [
      "Fit:  17%|█▋        | 8511/50000 [01:25<30:40, 22.54it/s]"
     ]
    },
    {
     "name": "stdout",
     "output_type": "stream",
     "text": [
      "Leaf assignments: 6656\n",
      "Tree size after growing: 37, leaf nodes: 19\n"
     ]
    },
    {
     "name": "stderr",
     "output_type": "stream",
     "text": [
      "Fit:  18%|█▊        | 9009/50000 [01:33<32:29, 21.03it/s]"
     ]
    },
    {
     "name": "stdout",
     "output_type": "stream",
     "text": [
      "Leaf assignments: 9066\n",
      "Tree size after growing: 39, leaf nodes: 20\n"
     ]
    },
    {
     "name": "stderr",
     "output_type": "stream",
     "text": [
      "Fit:  19%|█▉        | 9500/50000 [01:39<07:04, 95.48it/s]\n",
      "Predict: 100%|██████████| 274/274 [00:00<00:00, 374.11it/s]\n"
     ]
    },
    {
     "name": "stdout",
     "output_type": "stream",
     "text": [
      "finished DeepECT...\n",
      "fitting DeepECT+AUG...\n",
      "cuda\n"
     ]
    },
    {
     "name": "stderr",
     "output_type": "stream",
     "text": [
      "Fit:   1%|          | 504/50000 [00:36<19:19:19,  1.41s/it]"
     ]
    },
    {
     "name": "stdout",
     "output_type": "stream",
     "text": [
      "Leaf assignments: 48915\n",
      "Tree size after growing: 5, leaf nodes: 3\n"
     ]
    },
    {
     "name": "stderr",
     "output_type": "stream",
     "text": [
      "Fit:   2%|▏         | 1004/50000 [01:13<19:57:26,  1.47s/it]"
     ]
    },
    {
     "name": "stdout",
     "output_type": "stream",
     "text": [
      "Leaf assignments: 30965\n",
      "Tree size after growing: 7, leaf nodes: 4\n"
     ]
    },
    {
     "name": "stderr",
     "output_type": "stream",
     "text": [
      "Fit:   3%|▎         | 1504/50000 [01:50<17:29:50,  1.30s/it]"
     ]
    },
    {
     "name": "stdout",
     "output_type": "stream",
     "text": [
      "Leaf assignments: 21101\n",
      "Tree size after growing: 9, leaf nodes: 5\n"
     ]
    },
    {
     "name": "stderr",
     "output_type": "stream",
     "text": [
      "Fit:   4%|▍         | 2005/50000 [02:28<17:08:06,  1.29s/it]"
     ]
    },
    {
     "name": "stdout",
     "output_type": "stream",
     "text": [
      "Leaf assignments: 16428\n",
      "Tree size after growing: 11, leaf nodes: 6\n"
     ]
    },
    {
     "name": "stderr",
     "output_type": "stream",
     "text": [
      "Fit:   5%|▌         | 2504/50000 [03:05<19:55:41,  1.51s/it]"
     ]
    },
    {
     "name": "stdout",
     "output_type": "stream",
     "text": [
      "Leaf assignments: 18396\n",
      "Tree size after growing: 13, leaf nodes: 7\n"
     ]
    },
    {
     "name": "stderr",
     "output_type": "stream",
     "text": [
      "Fit:   6%|▌         | 3004/50000 [03:44<18:35:00,  1.42s/it]"
     ]
    },
    {
     "name": "stdout",
     "output_type": "stream",
     "text": [
      "Leaf assignments: 13268\n",
      "Tree size after growing: 15, leaf nodes: 8\n"
     ]
    },
    {
     "name": "stderr",
     "output_type": "stream",
     "text": [
      "Fit:   7%|▋         | 3504/50000 [04:23<18:09:14,  1.41s/it]"
     ]
    },
    {
     "name": "stdout",
     "output_type": "stream",
     "text": [
      "Leaf assignments: 9921\n",
      "Tree size after growing: 17, leaf nodes: 9\n"
     ]
    },
    {
     "name": "stderr",
     "output_type": "stream",
     "text": [
      "Fit:   8%|▊         | 3867/50000 [04:39<32:50, 23.41it/s]   "
     ]
    }
   ],
   "source": [
    "flat_mnist, hierarchical_mnist = evaluate(\n",
    "    init_autoencoder=FeedforwardAutoencoder, dataset_type=DatasetType.MNIST, seed=42\n",
    ")"
   ]
  },
  {
   "cell_type": "code",
   "execution_count": null,
   "metadata": {},
   "outputs": [],
   "source": [
    "flat_usps, hierarchical_usps = evaluate(\n",
    "    init_autoencoder=FeedforwardAutoencoder, dataset_type=DatasetType.USPS, seed=42\n",
    ")"
   ]
  },
  {
   "cell_type": "code",
   "execution_count": null,
   "metadata": {},
   "outputs": [],
   "source": [
    "flat_fashion, hierarchical_fashion = evaluate(\n",
    "    init_autoencoder=FeedforwardAutoencoder, dataset_type=DatasetType.FASHION_MNIST, seed=42\n",
    ")"
   ]
  },
  {
   "cell_type": "code",
   "execution_count": null,
   "metadata": {},
   "outputs": [],
   "source": [
    "flat_reuters, hierarchical_reuters = evaluate(\n",
    "    init_autoencoder=FeedforwardAutoencoder, dataset_type=DatasetType.REUTERS, seed=42\n",
    ")"
   ]
  },
  {
   "cell_type": "markdown",
   "metadata": {},
   "source": [
    "## Flat Clustering"
   ]
  },
  {
   "cell_type": "code",
   "execution_count": null,
   "metadata": {},
   "outputs": [],
   "source": [
    "flat_combined_df = pd.concat([flat_mnist, flat_usps, flat_fashion, flat_reuters], ignore_index=True)\n",
    "# Pivot the DataFrame to match the desired format\n",
    "pivot_df = flat_combined_df.pivot(index='method', columns='dataset', values=['nmi', 'acc', 'ari'])\n",
    "\n",
    "# Reorder the columns to match the order in the image\n",
    "pivot_df = pivot_df.reindex(columns=[('nmi', DatasetType.MNIST.value), ('acc', DatasetType.MNIST.value), ('ari', DatasetType.MNIST.value),\n",
    "                                     ('nmi', DatasetType.USPS.value), ('acc', DatasetType.USPS.value), ('ari', DatasetType.USPS.value),\n",
    "                                     ('nmi', DatasetType.FASHION_MNIST.value), ('acc', DatasetType.FASHION_MNIST.value), ('ari', DatasetType.FASHION_MNIST.value),\n",
    "                                     ('nmi', DatasetType.REUTERS.value), ('acc', DatasetType.REUTERS.value), ('ari', DatasetType.REUTERS.value)])\n",
    "\n",
    "\n",
    "# For Jupyter Notebook display with better formatting\n",
    "pivot_df.style.set_table_styles([\n",
    "    {'selector': 'thead th', 'props': [('background-color', '#f7f7f9'), \n",
    "                                       ('color', '#333'), \n",
    "                                       ('border', '1px solid #ddd')]},\n",
    "    {'selector': 'tbody tr:nth-child(even)', 'props': [('background-color', '#f9f9f9'), ('color', '#333')]},\n",
    "    {'selector': 'tbody tr:nth-child(odd)', 'props': [('background-color', '#fff'), ('color', '#333') ]}\n",
    "]).set_caption(\"Results Table\")"
   ]
  },
  {
   "cell_type": "markdown",
   "metadata": {},
   "source": [
    "## Hierarchical Clustering"
   ]
  },
  {
   "cell_type": "code",
   "execution_count": null,
   "metadata": {},
   "outputs": [],
   "source": [
    "hierarchical_combined = pd.concat([hierarchical_mnist, hierarchical_usps, hierarchical_fashion, hierarchical_reuters], ignore_index=True)\n",
    "# Pivot the DataFrame to match the desired format\n",
    "pivot_df = hierarchical_combined.pivot(index='method', columns='dataset', values=['dp', 'lp'])\n",
    "\n",
    "# Reorder the columns to match the order in the image\n",
    "pivot_df = pivot_df.reindex(columns=[('dp', DatasetType.MNIST.value), ('lp', DatasetType.MNIST.value), \n",
    "                                     ('dp', DatasetType.USPS.value), ('lp', DatasetType.USPS.value),\n",
    "                                     ('dp', DatasetType.FASHION_MNIST.value), ('lp', DatasetType.FASHION_MNIST.value),\n",
    "                                     ('dp', DatasetType.REUTERS.value), ('lp', DatasetType.REUTERS.value)])\n",
    "\n",
    "\n",
    "# For Jupyter Notebook display with better formatting\n",
    "pivot_df.style.set_table_styles([\n",
    "    {'selector': 'thead th', 'props': [('background-color', '#f7f7f9'), \n",
    "                                       ('color', '#333'), \n",
    "                                       ('border', '1px solid #ddd')]},\n",
    "    {'selector': 'tbody tr:nth-child(even)', 'props': [('background-color', '#f9f9f9'), ('color', '#333')]},\n",
    "    {'selector': 'tbody tr:nth-child(odd)', 'props': [('background-color', '#fff'), ('color', '#333') ]}\n",
    "]).set_caption(\"Results Table\")"
   ]
  }
 ],
 "metadata": {
  "kernelspec": {
   "display_name": "base",
   "language": "python",
   "name": "python3"
  },
  "language_info": {
   "codemirror_mode": {
    "name": "ipython",
    "version": 3
   },
   "file_extension": ".py",
   "mimetype": "text/x-python",
   "name": "python",
   "nbconvert_exporter": "python",
   "pygments_lexer": "ipython3",
   "version": "3.10.9"
  }
 },
 "nbformat": 4,
 "nbformat_minor": 2
}
