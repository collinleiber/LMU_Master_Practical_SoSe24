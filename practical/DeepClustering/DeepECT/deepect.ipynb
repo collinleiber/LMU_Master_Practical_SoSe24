{
 "cells": [
  {
   "cell_type": "markdown",
   "metadata": {},
   "source": [
    "# Evaluation"
   ]
  },
  {
   "cell_type": "code",
   "execution_count": null,
   "metadata": {},
   "outputs": [],
   "source": [
    "import sys\n",
    "import os\n",
    "\n",
    "repo_path = os.path.sep.join(os.getcwd().split(os.path.sep)[:-3])\n",
    "sys.path.append(repo_path)\n",
    "# resolves problem for Niklas os.chdir(repo_path)\n",
    "\n"
   ]
  },
  {
   "cell_type": "code",
   "execution_count": null,
   "metadata": {},
   "outputs": [],
   "source": [
    "import pandas as pd\n",
    "from clustpy.deep.autoencoders import FeedforwardAutoencoder\n",
    "from practical.DeepClustering.DeepECT.evaluation_pipeline import DatasetType, evaluate_multiple_seeds, calculate_flat_mean_for_multiple_seeds, calculate_hierarchical_mean_for_multiple_seeds\n",
    "\n",
    "\n"
   ]
  },
  {
   "cell_type": "markdown",
   "metadata": {},
   "source": [
    "Set multiple Seeds here"
   ]
  },
  {
   "cell_type": "code",
   "execution_count": null,
   "metadata": {},
   "outputs": [],
   "source": [
    "seeds = [0, 1, 2, 3, 4]"
   ]
  },
  {
   "cell_type": "markdown",
   "metadata": {},
   "source": [
    "#### MNIST"
   ]
  },
  {
   "cell_type": "code",
   "execution_count": null,
   "metadata": {},
   "outputs": [],
   "source": [
    "flat_mnist_multiple_seeds, hierarchical_mnist_multiple_seeds = evaluate_multiple_seeds(\n",
    "    init_autoencoder=FeedforwardAutoencoder, dataset_type=DatasetType.MNIST, seeds=seeds\n",
    ")\n",
    "\n",
    "mean_flat_mnist = calculate_flat_mean_for_multiple_seeds(flat_mnist_multiple_seeds)\n",
    "mean_hierarchical_mnist = calculate_hierarchical_mean_for_multiple_seeds(hierarchical_mnist_multiple_seeds)"
   ]
  },
  {
   "cell_type": "markdown",
   "metadata": {},
   "source": [
    "#### USPS"
   ]
  },
  {
   "cell_type": "code",
   "execution_count": null,
   "metadata": {},
   "outputs": [],
   "source": [
    "flat_usps_multiple_seeds, hierarchical_usps_multiple_seeds = evaluate_multiple_seeds(\n",
    "    init_autoencoder=FeedforwardAutoencoder, dataset_type=DatasetType.USPS, seeds=seeds\n",
    ")\n",
    "\n",
    "mean_flat_usps = calculate_flat_mean_for_multiple_seeds(flat_usps_multiple_seeds)\n",
    "mean_hierarchical_usps = calculate_hierarchical_mean_for_multiple_seeds(hierarchical_usps_multiple_seeds)"
   ]
  },
  {
   "cell_type": "markdown",
   "metadata": {},
   "source": [
    "#### FASHION MNIST"
   ]
  },
  {
   "cell_type": "code",
   "execution_count": null,
   "metadata": {},
   "outputs": [],
   "source": [
    "flat_fashion_multiple_seeds, hierarchical_fashion_multiple_seeds = evaluate_multiple_seeds(\n",
    "    init_autoencoder=FeedforwardAutoencoder, dataset_type=DatasetType.FASHION_MNIST, seeds=seeds\n",
    ")\n",
    "\n",
    "mean_flat_fashion = calculate_flat_mean_for_multiple_seeds(flat_fashion_multiple_seeds)\n",
    "mean_hierarchical_fashion = calculate_hierarchical_mean_for_multiple_seeds(hierarchical_fashion_multiple_seeds)"
   ]
  },
  {
   "cell_type": "markdown",
   "metadata": {},
   "source": [
    "#### REUTERS"
   ]
  },
  {
   "cell_type": "code",
   "execution_count": null,
   "metadata": {},
   "outputs": [],
   "source": [
    "flat_reuters_multiple_seeds, hierarchical_reuters_multiple_seeds = evaluate_multiple_seeds(\n",
    "    init_autoencoder=FeedforwardAutoencoder, dataset_type=DatasetType.REUTERS, seeds=seeds\n",
    ")\n",
    "\n",
    "mean_flat_reuters = calculate_flat_mean_for_multiple_seeds(flat_reuters_multiple_seeds)\n",
    "mean_hierarchical_reuters = calculate_hierarchical_mean_for_multiple_seeds(hierarchical_reuters_multiple_seeds)"
   ]
  },
  {
   "cell_type": "markdown",
   "metadata": {},
   "source": [
    "## Flat Clustering"
   ]
  },
  {
   "cell_type": "code",
   "execution_count": null,
   "metadata": {},
   "outputs": [],
   "source": [
    "flat_combined_df = pd.concat([mean_flat_mnist, mean_flat_usps, mean_flat_fashion, mean_flat_reuters], ignore_index=True)\n",
    "print(flat_combined_df)\n",
    "# Pivot the DataFrame to match the desired format\n",
    "pivot_df = flat_combined_df.pivot(index='method', columns='dataset', values=['nmi', 'acc', 'ari',])\n",
    "\n",
    "# Reorder the columns to match the order in the image\n",
    "pivot_df = pivot_df.reindex(columns=[('nmi', DatasetType.MNIST.value), ('acc', DatasetType.MNIST.value), ('ari', DatasetType.MNIST.value),\n",
    "                                     ('nmi', DatasetType.USPS.value), ('acc', DatasetType.USPS.value), ('ari', DatasetType.USPS.value),\n",
    "                                     ('nmi', DatasetType.FASHION_MNIST.value), ('acc', DatasetType.FASHION_MNIST.value), ('ari', DatasetType.FASHION_MNIST.value),\n",
    "                                     ('nmi', DatasetType.REUTERS.value), ('acc', DatasetType.REUTERS.value), ('ari', DatasetType.REUTERS.value)])\n",
    "\n",
    "\n",
    "# For Jupyter Notebook display with better formatting\n",
    "pivot_df.style.set_table_styles([\n",
    "    {'selector': 'thead th', 'props': [('background-color', '#f7f7f9'), \n",
    "                                       ('color', '#333'), \n",
    "                                       ('border', '1px solid #ddd')]},\n",
    "    {'selector': 'tbody tr:nth-child(even)', 'props': [('background-color', '#f9f9f9'), ('color', '#333')]},\n",
    "    {'selector': 'tbody tr:nth-child(odd)', 'props': [('background-color', '#fff'), ('color', '#333') ]}\n",
    "]).set_caption(\"Results Table\")"
   ]
  },
  {
   "cell_type": "markdown",
   "metadata": {},
   "source": [
    "## Hierarchical Clustering"
   ]
  },
  {
   "cell_type": "code",
   "execution_count": null,
   "metadata": {},
   "outputs": [],
   "source": [
    "hierarchical_combined = pd.concat([mean_hierarchical_mnist, mean_flat_usps, mean_hierarchical_fashion, mean_hierarchical_reuters], ignore_index=True)\n",
    "# Pivot the DataFrame to match the desired format\n",
    "pivot_df = hierarchical_combined.pivot(index='method', columns='dataset', values=['dp', 'lp'])\n",
    "\n",
    "# Reorder the columns to match the order in the image\n",
    "pivot_df = pivot_df.reindex(columns=[('dp', DatasetType.MNIST.value), ('lp', DatasetType.MNIST.value), \n",
    "                                     ('dp', DatasetType.USPS.value), ('lp', DatasetType.USPS.value),\n",
    "                                     ('dp', DatasetType.FASHION_MNIST.value), ('lp', DatasetType.FASHION_MNIST.value),\n",
    "                                     ('dp', DatasetType.REUTERS.value), ('lp', DatasetType.REUTERS.value)])\n",
    "\n",
    "\n",
    "# For Jupyter Notebook display with better formatting\n",
    "pivot_df.style.set_table_styles([\n",
    "    {'selector': 'thead th', 'props': [('background-color', '#f7f7f9'), \n",
    "                                       ('color', '#333'), \n",
    "                                       ('border', '1px solid #ddd')]},\n",
    "    {'selector': 'tbody tr:nth-child(even)', 'props': [('background-color', '#f9f9f9'), ('color', '#333')]},\n",
    "    {'selector': 'tbody tr:nth-child(odd)', 'props': [('background-color', '#fff'), ('color', '#333') ]}\n",
    "]).set_caption(\"Results Table\")"
   ]
  }
 ],
 "metadata": {
  "kernelspec": {
   "display_name": "base",
   "language": "python",
   "name": "python3"
  },
  "language_info": {
   "codemirror_mode": {
    "name": "ipython",
    "version": 3
   },
   "file_extension": ".py",
   "mimetype": "text/x-python",
   "name": "python",
   "nbconvert_exporter": "python",
   "pygments_lexer": "ipython3",
   "version": "3.10.14"
  }
 },
 "nbformat": 4,
 "nbformat_minor": 2
}
